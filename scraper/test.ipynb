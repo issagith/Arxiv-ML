{
 "cells": [
  {
   "cell_type": "code",
   "execution_count": 28,
   "metadata": {},
   "outputs": [],
   "source": [
    "import urllib.request as libreq\n",
    "import time\n",
    "import xml.etree.ElementTree as ET\n",
    "from datetime import datetime\n",
    "\n",
    "# Paramètres de limitation\n",
    "FREQUENCY_LIMIT = 4             # Maximum 1 requête toutes les 3 secondes\n",
    "\n",
    "start_time = time.time()\n",
    "end_time = start_time + 600  # durée d'exécution : 5 minutes\n",
    "i = 0\n",
    "\n",
    "filename = f'extractions/XML/arxiv_data_{datetime.now().strftime(\"%Y%m%d_%H%M%S\")}.xml'\n",
    "\n",
    "with open(filename, 'ab') as f:\n",
    "    while time.time() < end_time:\n",
    "        start = str(i * 5000)\n",
    "        max_results = str(5000)  # nombre maximum de résultats à récupérer\n",
    "\n",
    "        # Construction de l'URL avec des paramètres distincts pour start et max_results\n",
    "        url = f'http://export.arxiv.org/api/query?search_query=all&start={start}&max_results={max_results}'\n",
    "        \n",
    "        try:\n",
    "            with libreq.urlopen(url) as response:\n",
    "                r = response.read()\n",
    "                # Écriture du contenu XML dans le fichier unique\n",
    "                f.write(r)\n",
    "        except libreq.HTTPError as e:\n",
    "            error_data = e.read()\n",
    "            try:\n",
    "                # Parsing du XML de l'erreur pour extraire le contenu du tag <summary>\n",
    "                root = ET.fromstring(error_data)\n",
    "                summary = root.find('.//{http://www.w3.org/2005/Atom}summary')\n",
    "                if summary is not None:\n",
    "                    print(f\"HTTP Error {e.code}: {summary.text}\")\n",
    "                else:\n",
    "                    print(f\"HTTP Error {e.code}: Erreur inconnue, impossible de trouver le résumé\")\n",
    "            except Exception as parse_error:\n",
    "                print(f\"HTTP Error {e.code}: Erreur lors du parsing du XML d'erreur - {parse_error}\")\n",
    "        except Exception as ex:\n",
    "            print(f\"Une autre erreur s'est produite: {ex}\")\n",
    "            \n",
    "        \n",
    "        time.sleep(FREQUENCY_LIMIT)\n",
    "        i += 1\n"
   ]
  },
  {
   "cell_type": "code",
   "execution_count": 30,
   "metadata": {},
   "outputs": [
    {
     "name": "stdout",
     "output_type": "stream",
     "text": [
      "Processed 15000 articles\n"
     ]
    }
   ],
   "source": [
    "import pandas as pd\n",
    "\n",
    "import xml.etree.ElementTree as ET\n",
    "\n",
    "XML_file = f'extractions/XML/arxiv_data_20250304_093007.XML'\n",
    "CSV_file = f'extractions/CSV/arxiv_data_{time.time()}.csv'\n",
    "\n",
    "# Define the namespace dictionary for XML parsing\n",
    "namespaces = {\n",
    "    'atom': 'http://www.w3.org/2005/Atom',\n",
    "    'arxiv': 'http://arxiv.org/schemas/atom'\n",
    "}\n",
    "\n",
    "# Function to parse a single entry\n",
    "def parse_entry(entry):\n",
    "    # Extract basic information\n",
    "    article = {\n",
    "        'id': entry.find('atom:id', namespaces).text,\n",
    "        'title': entry.find('atom:title', namespaces).text.strip(),\n",
    "        'published': entry.find('atom:published', namespaces).text,\n",
    "        'updated': entry.find('atom:updated', namespaces).text,\n",
    "        'summary': entry.find('atom:summary', namespaces).text.strip(),\n",
    "    }\n",
    "    \n",
    "    # Extract authors\n",
    "    authors = [author.find('atom:name', namespaces).text \n",
    "              for author in entry.findall('atom:author', namespaces)]\n",
    "    article['authors'] = '; '.join(authors)\n",
    "    \n",
    "    # Extract DOI if available\n",
    "    doi = entry.find('arxiv:doi', namespaces)\n",
    "    article['doi'] = doi.text if doi is not None else None\n",
    "    \n",
    "    # Extract categories\n",
    "    primary_category = entry.find('arxiv:primary_category', namespaces)\n",
    "    article['primary_category'] = primary_category.get('term') if primary_category is not None else None\n",
    "    \n",
    "    return article\n",
    "\n",
    "# Parse the XML file and create a list of articles\n",
    "articles = []\n",
    "\n",
    "# Read and process the XML content\n",
    "with open(XML_file, 'r', encoding='utf-8', errors='replace') as file:\n",
    "    content = file.read()\n",
    "\n",
    "# Split the content properly at the XML document boundaries\n",
    "xml_docs = content.split('<?xml version=\"1.0\" encoding=\"UTF-8\"?>')\n",
    "for doc in xml_docs:\n",
    "    if not doc.strip():  # Skip empty strings\n",
    "        continue\n",
    "    \n",
    "    # Reconstruct proper XML document\n",
    "    doc = '<?xml version=\"1.0\" encoding=\"UTF-8\"?>' + doc\n",
    "    try:\n",
    "        root = ET.fromstring(doc)\n",
    "        # Process each entry\n",
    "        entries = root.findall('.//atom:entry', namespaces)\n",
    "        for entry in entries:\n",
    "            article_data = parse_entry(entry)\n",
    "            articles.append(article_data)\n",
    "    except ET.ParseError as e:\n",
    "        print(f\"Skipping malformed XML document: {str(e)}\")\n",
    "        continue\n",
    "\n",
    "# Create DataFrame and save to CSV\n",
    "df = pd.DataFrame(articles)\n",
    "df.to_csv(CSV_file, index=False)\n",
    "print(f\"Processed {len(articles)} articles\")"
   ]
  },
  {
   "cell_type": "code",
   "execution_count": 31,
   "metadata": {},
   "outputs": [
    {
     "data": {
      "text/plain": [
       "15000"
      ]
     },
     "execution_count": 31,
     "metadata": {},
     "output_type": "execute_result"
    }
   ],
   "source": [
    "len(df.id.unique())"
   ]
  },
  {
   "cell_type": "code",
   "execution_count": 32,
   "metadata": {},
   "outputs": [
    {
     "data": {
      "text/html": [
       "<div>\n",
       "<style scoped>\n",
       "    .dataframe tbody tr th:only-of-type {\n",
       "        vertical-align: middle;\n",
       "    }\n",
       "\n",
       "    .dataframe tbody tr th {\n",
       "        vertical-align: top;\n",
       "    }\n",
       "\n",
       "    .dataframe thead th {\n",
       "        text-align: right;\n",
       "    }\n",
       "</style>\n",
       "<table border=\"1\" class=\"dataframe\">\n",
       "  <thead>\n",
       "    <tr style=\"text-align: right;\">\n",
       "      <th></th>\n",
       "      <th>id</th>\n",
       "      <th>title</th>\n",
       "      <th>published</th>\n",
       "      <th>updated</th>\n",
       "      <th>summary</th>\n",
       "      <th>authors</th>\n",
       "      <th>doi</th>\n",
       "      <th>primary_category</th>\n",
       "    </tr>\n",
       "  </thead>\n",
       "  <tbody>\n",
       "    <tr>\n",
       "      <th>0</th>\n",
       "      <td>http://arxiv.org/abs/2401.04381v1</td>\n",
       "      <td>Spaces where all bijections are morphisms</td>\n",
       "      <td>2024-01-09T07:01:04Z</td>\n",
       "      <td>2024-01-09T07:01:04Z</td>\n",
       "      <td>Here we classify all topological spaces where ...</td>\n",
       "      <td>Lucas H. R. de Souza</td>\n",
       "      <td>None</td>\n",
       "      <td>math.GN</td>\n",
       "    </tr>\n",
       "    <tr>\n",
       "      <th>1</th>\n",
       "      <td>http://arxiv.org/abs/1911.11405v1</td>\n",
       "      <td>A Note on Computational Complexity of Kill-all Go</td>\n",
       "      <td>2019-11-26T08:49:54Z</td>\n",
       "      <td>2019-11-26T08:49:54Z</td>\n",
       "      <td>Kill-all Go is a variant of Go in which Black ...</td>\n",
       "      <td>Zhujun Zhang</td>\n",
       "      <td>None</td>\n",
       "      <td>cs.CC</td>\n",
       "    </tr>\n",
       "    <tr>\n",
       "      <th>2</th>\n",
       "      <td>http://arxiv.org/abs/2501.13404v1</td>\n",
       "      <td>Classification of Homogeneous Local Representa...</td>\n",
       "      <td>2025-01-23T06:06:47Z</td>\n",
       "      <td>2025-01-23T06:06:47Z</td>\n",
       "      <td>For a natural number $n$, denote by $B_n$ the ...</td>\n",
       "      <td>Taher I. Mayassi; Mohamad N. Nasser</td>\n",
       "      <td>None</td>\n",
       "      <td>math.RT</td>\n",
       "    </tr>\n",
       "    <tr>\n",
       "      <th>3</th>\n",
       "      <td>http://arxiv.org/abs/1210.7708v1</td>\n",
       "      <td>Landau--Kolmogorov inequality revisited</td>\n",
       "      <td>2012-10-29T16:12:41Z</td>\n",
       "      <td>2012-10-29T16:12:41Z</td>\n",
       "      <td>The Landau-Kolmogorov problem consists of find...</td>\n",
       "      <td>Alexei Shadrin</td>\n",
       "      <td>None</td>\n",
       "      <td>math.NA</td>\n",
       "    </tr>\n",
       "    <tr>\n",
       "      <th>4</th>\n",
       "      <td>http://arxiv.org/abs/1602.00450v1</td>\n",
       "      <td>All-in-all-out magnetic domain wall conduction...</td>\n",
       "      <td>2016-02-01T09:53:30Z</td>\n",
       "      <td>2016-02-01T09:53:30Z</td>\n",
       "      <td>Pyrochlore oxides possessing \"all-in-all-out\" ...</td>\n",
       "      <td>T. C. Fujita; M. Uchida; Y. Kozuka; W. Sano; A...</td>\n",
       "      <td>10.1103/PhysRevB.93.064419</td>\n",
       "      <td>cond-mat.mtrl-sci</td>\n",
       "    </tr>\n",
       "  </tbody>\n",
       "</table>\n",
       "</div>"
      ],
      "text/plain": [
       "                                  id  \\\n",
       "0  http://arxiv.org/abs/2401.04381v1   \n",
       "1  http://arxiv.org/abs/1911.11405v1   \n",
       "2  http://arxiv.org/abs/2501.13404v1   \n",
       "3   http://arxiv.org/abs/1210.7708v1   \n",
       "4  http://arxiv.org/abs/1602.00450v1   \n",
       "\n",
       "                                               title             published  \\\n",
       "0          Spaces where all bijections are morphisms  2024-01-09T07:01:04Z   \n",
       "1  A Note on Computational Complexity of Kill-all Go  2019-11-26T08:49:54Z   \n",
       "2  Classification of Homogeneous Local Representa...  2025-01-23T06:06:47Z   \n",
       "3            Landau--Kolmogorov inequality revisited  2012-10-29T16:12:41Z   \n",
       "4  All-in-all-out magnetic domain wall conduction...  2016-02-01T09:53:30Z   \n",
       "\n",
       "                updated                                            summary  \\\n",
       "0  2024-01-09T07:01:04Z  Here we classify all topological spaces where ...   \n",
       "1  2019-11-26T08:49:54Z  Kill-all Go is a variant of Go in which Black ...   \n",
       "2  2025-01-23T06:06:47Z  For a natural number $n$, denote by $B_n$ the ...   \n",
       "3  2012-10-29T16:12:41Z  The Landau-Kolmogorov problem consists of find...   \n",
       "4  2016-02-01T09:53:30Z  Pyrochlore oxides possessing \"all-in-all-out\" ...   \n",
       "\n",
       "                                             authors  \\\n",
       "0                               Lucas H. R. de Souza   \n",
       "1                                       Zhujun Zhang   \n",
       "2                Taher I. Mayassi; Mohamad N. Nasser   \n",
       "3                                     Alexei Shadrin   \n",
       "4  T. C. Fujita; M. Uchida; Y. Kozuka; W. Sano; A...   \n",
       "\n",
       "                          doi   primary_category  \n",
       "0                        None            math.GN  \n",
       "1                        None              cs.CC  \n",
       "2                        None            math.RT  \n",
       "3                        None            math.NA  \n",
       "4  10.1103/PhysRevB.93.064419  cond-mat.mtrl-sci  "
      ]
     },
     "execution_count": 32,
     "metadata": {},
     "output_type": "execute_result"
    }
   ],
   "source": [
    "df.head()"
   ]
  },
  {
   "cell_type": "code",
   "execution_count": 33,
   "metadata": {},
   "outputs": [
    {
     "name": "stdout",
     "output_type": "stream",
     "text": [
      "163\n"
     ]
    }
   ],
   "source": [
    "print(len(df.primary_category.unique()))"
   ]
  },
  {
   "cell_type": "code",
   "execution_count": 34,
   "metadata": {},
   "outputs": [
    {
     "data": {
      "image/png": "[encoded data removed]",
      "text/plain": [
       "<Figure size 864x432 with 1 Axes>"
      ]
     },
     "metadata": {
      "needs_background": "light"
     },
     "output_type": "display_data"
    }
   ],
   "source": [
    "import matplotlib.pyplot as plt\n",
    "cats = df.primary_category.value_counts()\n",
    "plt.figure(figsize=(12, 6))\n",
    "plt.bar(cats.index, cats.values)\n",
    "plt.xticks(rotation=45, ha='right')\n",
    "plt.title('Distribution of Primary Categories')\n",
    "plt.xlabel('Category')\n",
    "plt.ylabel('Count')\n",
    "plt.tight_layout()"
   ]
  },
  {
   "cell_type": "code",
   "execution_count": 41,
   "metadata": {},
   "outputs": [
    {
     "data": {
      "text/plain": [
       "13845"
      ]
     },
     "execution_count": 41,
     "metadata": {},
     "output_type": "execute_result"
    }
   ],
   "source": [
    "len(df.authors.unique())"
   ]
  },
  {
   "cell_type": "code",
   "execution_count": 216,
   "metadata": {},
   "outputs": [
    {
     "data": {
      "text/plain": [
       "array(['Lucas H. R. de Souza', 'Zhujun Zhang',\n",
       "       'Taher I. Mayassi; Mohamad N. Nasser', ...,\n",
       "       'Tomasz Gogacz; Jerzy Marcinkowski',\n",
       "       'Florent Foucaud; Michael Krivelevich; Guillem Perarnau',\n",
       "       'John Golden; Miguel F. Paulos; Marcus Spradlin; Anastasia Volovich'],\n",
       "      dtype=object)"
      ]
     },
     "execution_count": 216,
     "metadata": {},
     "output_type": "execute_result"
    }
   ],
   "source": [
    "authors = df.authors.unique()\n",
    "authors"
   ]
  },
  {
   "cell_type": "code",
   "execution_count": 119,
   "metadata": {},
   "outputs": [
    {
     "name": "stdout",
     "output_type": "stream",
     "text": [
      "['Taher I. Mayassi', ' Mohamad N. Nasser']\n",
      "['T. C. Fujita', ' M. Uchida; Y. Kozuka; W. Sano; A. Tsukazaki; T. Arima; M. Kawasaki']\n"
     ]
    }
   ],
   "source": [
    "test = 'Taher I. Mayassi; Mohamad N. Nasser'\n",
    "first = list(test.partition(';'))\n",
    "out = []\n",
    "for i in range(0, len(first), 2):\n",
    "    out.append(first[i])\n",
    "\n",
    "print(out)\n",
    "\n",
    "def list_authors(str_authors):\n",
    "    l = list(str_authors.partition(';'))\n",
    "    out = []\n",
    "    for i in range(0, len(l), 2):\n",
    "        out.append(l[i])\n",
    "    \n",
    "    return out\n",
    "print(list_authors('T. C. Fujita; M. Uchida; Y. Kozuka; W. Sano; A. Tsukazaki; T. Arima; M. Kawasaki'))"
   ]
  },
  {
   "cell_type": "code",
   "execution_count": 140,
   "metadata": {},
   "outputs": [
    {
     "data": {
      "text/plain": [
       "['T. C. Fujita',\n",
       " 'M. Uchida',\n",
       " 'Y. Kozuka',\n",
       " 'W. Sano',\n",
       " 'A. Tsukazaki',\n",
       " 'T. Arima',\n",
       " 'M. Kawasaki']"
      ]
     },
     "execution_count": 140,
     "metadata": {},
     "output_type": "execute_result"
    }
   ],
   "source": [
    "import numpy as np \n",
    "\n",
    "test = 'T. C. Fujita; M. Uchida; Y. Kozuka; W. Sano; A. Tsukazaki; T. Arima; M. Kawasaki'\n",
    "\n",
    "def auth_str_to_list(auth_str):\n",
    "    copy = auth_str\n",
    "    still_separable = True\n",
    "    out = []\n",
    "    while still_separable:\n",
    "        idx = copy.find(';')\n",
    "        if idx == -1:\n",
    "            out.append(copy.strip())\n",
    "            still_separable = False\n",
    "        else:\n",
    "            out.append(copy[:idx].strip())\n",
    "            copy = copy[idx+1:]\n",
    "\n",
    "    return out\n",
    "\n",
    "auth_str_to_list(test)\n"
   ]
  },
  {
   "cell_type": "code",
   "execution_count": null,
   "metadata": {},
   "outputs": [],
   "source": [
    "unique_authors = []\n",
    "for auth in authors:\n",
    "    l_authors = auth_str_to_list(auth)\n",
    "    for author in l_authors:\n",
    "        unique_authors.append(author)\n",
    "\n",
    "print(len(unique_authors))"
   ]
  },
  {
   "cell_type": "code",
   "execution_count": null,
   "metadata": {},
   "outputs": [
    {
     "name": "stdout",
     "output_type": "stream",
     "text": [
      "[]\n"
     ]
    }
   ],
   "source": [
    "\n",
    "network = {author:[] for author in unique_authors}\n",
    "for i in range(len(df)):\n",
    "    paper_authors = df.iloc[i].authors\n",
    "    authors_list = auth_str_to_list(paper_authors)\n",
    "    nbr_authors = len(authors_list)\n",
    "    if nbr_authors > 1:\n",
    "        for j in range(nbr_authors):\n",
    "            for k in range(nbr_authors):\n",
    "                if j != k:\n",
    "                    network[authors_list[j]] += [authors_list[k]]\n",
    "\n"
   ]
  },
  {
   "cell_type": "code",
   "execution_count": 262,
   "metadata": {},
   "outputs": [
    {
     "name": "stdout",
     "output_type": "stream",
     "text": [
      "[]\n",
      "[]\n",
      "['Mohamad N. Nasser']\n",
      "['Taher I. Mayassi']\n",
      "[]\n",
      "['M. Uchida', 'Y. Kozuka', 'W. Sano', 'A. Tsukazaki', 'T. Arima', 'M. Kawasaki', 'M. Uchida', 'Y. Kozuka', 'S. Ogawa', 'A. Tsukazaki', 'T. Arima', 'M. Kawasaki', 'Y. Kozuka', 'M. Uchida', 'A. Tsukazaki', 'T. Arima', 'M. Kawasaki']\n",
      "['T. C. Fujita', 'Y. Kozuka', 'W. Sano', 'A. Tsukazaki', 'T. Arima', 'M. Kawasaki', 'T. C. Fujita', 'Y. Kozuka', 'S. Ogawa', 'A. Tsukazaki', 'T. Arima', 'M. Kawasaki', 'T. C. Fujita', 'Y. Kozuka', 'A. Tsukazaki', 'T. Arima', 'M. Kawasaki']\n",
      "['T. C. Fujita', 'M. Uchida', 'W. Sano', 'A. Tsukazaki', 'T. Arima', 'M. Kawasaki', 'T. C. Fujita', 'M. Uchida', 'S. Ogawa', 'A. Tsukazaki', 'T. Arima', 'M. Kawasaki', 'T. C. Fujita', 'M. Uchida', 'A. Tsukazaki', 'T. Arima', 'M. Kawasaki']\n",
      "['T. C. Fujita', 'M. Uchida', 'Y. Kozuka', 'A. Tsukazaki', 'T. Arima', 'M. Kawasaki']\n",
      "['T. C. Fujita', 'M. Uchida', 'Y. Kozuka', 'W. Sano', 'T. Arima', 'M. Kawasaki', 'T. C. Fujita', 'M. Uchida', 'Y. Kozuka', 'S. Ogawa', 'T. Arima', 'M. Kawasaki', 'T. C. Fujita', 'Y. Kozuka', 'M. Uchida', 'T. Arima', 'M. Kawasaki']\n"
     ]
    }
   ],
   "source": [
    "\n",
    "for i in range(0,10):\n",
    "    print(network[unique_authors[i]])\n",
    "    "
   ]
  }
 ],
 "metadata": {
  "kernelspec": {
   "display_name": "Python 3",
   "language": "python",
   "name": "python3"
  },
  "language_info": {
   "codemirror_mode": {
    "name": "ipython",
    "version": 3
   },
   "file_extension": ".py",
   "mimetype": "text/x-python",
   "name": "python",
   "nbconvert_exporter": "python",
   "pygments_lexer": "ipython3",
   "version": "3.9.1"
  }
 },
 "nbformat": 4,
 "nbformat_minor": 2
}
