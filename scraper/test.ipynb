{
 "cells": [
  {
   "cell_type": "code",
   "execution_count": 10,
   "metadata": {},
   "outputs": [],
   "source": [
    "import urllib.request as libreq\n",
    "import time\n",
    "import xml.etree.ElementTree as ET\n",
    "from datetime import datetime\n",
    "import pandas as pd\n",
    "\n"
   ]
  },
  {
   "cell_type": "code",
   "execution_count": null,
   "metadata": {},
   "outputs": [
    {
     "ename": "KeyboardInterrupt",
     "evalue": "",
     "output_type": "error",
     "traceback": [
      "\u001b[31m---------------------------------------------------------------------------\u001b[39m",
      "\u001b[31mKeyboardInterrupt\u001b[39m                         Traceback (most recent call last)",
      "\u001b[36mCell\u001b[39m\u001b[36m \u001b[39m\u001b[32mIn[3]\u001b[39m\u001b[32m, line 24\u001b[39m\n\u001b[32m     21\u001b[39m url = \u001b[33mf\u001b[39m\u001b[33m'\u001b[39m\u001b[33mhttp://export.arxiv.org/api/query?search_query=all&start=\u001b[39m\u001b[38;5;132;01m{\u001b[39;00mstart\u001b[38;5;132;01m}\u001b[39;00m\u001b[33m&max_results=\u001b[39m\u001b[38;5;132;01m{\u001b[39;00mmax_results\u001b[38;5;132;01m}\u001b[39;00m\u001b[33m'\u001b[39m\n\u001b[32m     23\u001b[39m \u001b[38;5;28;01mtry\u001b[39;00m:\n\u001b[32m---> \u001b[39m\u001b[32m24\u001b[39m     \u001b[38;5;28;01mwith\u001b[39;00m \u001b[43mlibreq\u001b[49m\u001b[43m.\u001b[49m\u001b[43murlopen\u001b[49m\u001b[43m(\u001b[49m\u001b[43murl\u001b[49m\u001b[43m)\u001b[49m \u001b[38;5;28;01mas\u001b[39;00m response:\n\u001b[32m     25\u001b[39m         r = response.read()\n\u001b[32m     26\u001b[39m         \u001b[38;5;66;03m# Écriture du contenu XML dans le fichier unique\u001b[39;00m\n",
      "\u001b[36mFile \u001b[39m\u001b[32mC:\\Python312\\Lib\\urllib\\request.py:215\u001b[39m, in \u001b[36murlopen\u001b[39m\u001b[34m(url, data, timeout, cafile, capath, cadefault, context)\u001b[39m\n\u001b[32m    213\u001b[39m \u001b[38;5;28;01melse\u001b[39;00m:\n\u001b[32m    214\u001b[39m     opener = _opener\n\u001b[32m--> \u001b[39m\u001b[32m215\u001b[39m \u001b[38;5;28;01mreturn\u001b[39;00m \u001b[43mopener\u001b[49m\u001b[43m.\u001b[49m\u001b[43mopen\u001b[49m\u001b[43m(\u001b[49m\u001b[43murl\u001b[49m\u001b[43m,\u001b[49m\u001b[43m \u001b[49m\u001b[43mdata\u001b[49m\u001b[43m,\u001b[49m\u001b[43m \u001b[49m\u001b[43mtimeout\u001b[49m\u001b[43m)\u001b[49m\n",
      "\u001b[36mFile \u001b[39m\u001b[32mC:\\Python312\\Lib\\urllib\\request.py:515\u001b[39m, in \u001b[36mOpenerDirector.open\u001b[39m\u001b[34m(self, fullurl, data, timeout)\u001b[39m\n\u001b[32m    512\u001b[39m     req = meth(req)\n\u001b[32m    514\u001b[39m sys.audit(\u001b[33m'\u001b[39m\u001b[33murllib.Request\u001b[39m\u001b[33m'\u001b[39m, req.full_url, req.data, req.headers, req.get_method())\n\u001b[32m--> \u001b[39m\u001b[32m515\u001b[39m response = \u001b[38;5;28;43mself\u001b[39;49m\u001b[43m.\u001b[49m\u001b[43m_open\u001b[49m\u001b[43m(\u001b[49m\u001b[43mreq\u001b[49m\u001b[43m,\u001b[49m\u001b[43m \u001b[49m\u001b[43mdata\u001b[49m\u001b[43m)\u001b[49m\n\u001b[32m    517\u001b[39m \u001b[38;5;66;03m# post-process response\u001b[39;00m\n\u001b[32m    518\u001b[39m meth_name = protocol+\u001b[33m\"\u001b[39m\u001b[33m_response\u001b[39m\u001b[33m\"\u001b[39m\n",
      "\u001b[36mFile \u001b[39m\u001b[32mC:\\Python312\\Lib\\urllib\\request.py:532\u001b[39m, in \u001b[36mOpenerDirector._open\u001b[39m\u001b[34m(self, req, data)\u001b[39m\n\u001b[32m    529\u001b[39m     \u001b[38;5;28;01mreturn\u001b[39;00m result\n\u001b[32m    531\u001b[39m protocol = req.type\n\u001b[32m--> \u001b[39m\u001b[32m532\u001b[39m result = \u001b[38;5;28;43mself\u001b[39;49m\u001b[43m.\u001b[49m\u001b[43m_call_chain\u001b[49m\u001b[43m(\u001b[49m\u001b[38;5;28;43mself\u001b[39;49m\u001b[43m.\u001b[49m\u001b[43mhandle_open\u001b[49m\u001b[43m,\u001b[49m\u001b[43m \u001b[49m\u001b[43mprotocol\u001b[49m\u001b[43m,\u001b[49m\u001b[43m \u001b[49m\u001b[43mprotocol\u001b[49m\u001b[43m \u001b[49m\u001b[43m+\u001b[49m\n\u001b[32m    533\u001b[39m \u001b[43m                          \u001b[49m\u001b[33;43m'\u001b[39;49m\u001b[33;43m_open\u001b[39;49m\u001b[33;43m'\u001b[39;49m\u001b[43m,\u001b[49m\u001b[43m \u001b[49m\u001b[43mreq\u001b[49m\u001b[43m)\u001b[49m\n\u001b[32m    534\u001b[39m \u001b[38;5;28;01mif\u001b[39;00m result:\n\u001b[32m    535\u001b[39m     \u001b[38;5;28;01mreturn\u001b[39;00m result\n",
      "\u001b[36mFile \u001b[39m\u001b[32mC:\\Python312\\Lib\\urllib\\request.py:492\u001b[39m, in \u001b[36mOpenerDirector._call_chain\u001b[39m\u001b[34m(self, chain, kind, meth_name, *args)\u001b[39m\n\u001b[32m    490\u001b[39m \u001b[38;5;28;01mfor\u001b[39;00m handler \u001b[38;5;129;01min\u001b[39;00m handlers:\n\u001b[32m    491\u001b[39m     func = \u001b[38;5;28mgetattr\u001b[39m(handler, meth_name)\n\u001b[32m--> \u001b[39m\u001b[32m492\u001b[39m     result = \u001b[43mfunc\u001b[49m\u001b[43m(\u001b[49m\u001b[43m*\u001b[49m\u001b[43margs\u001b[49m\u001b[43m)\u001b[49m\n\u001b[32m    493\u001b[39m     \u001b[38;5;28;01mif\u001b[39;00m result \u001b[38;5;129;01mis\u001b[39;00m \u001b[38;5;129;01mnot\u001b[39;00m \u001b[38;5;28;01mNone\u001b[39;00m:\n\u001b[32m    494\u001b[39m         \u001b[38;5;28;01mreturn\u001b[39;00m result\n",
      "\u001b[36mFile \u001b[39m\u001b[32mC:\\Python312\\Lib\\urllib\\request.py:1373\u001b[39m, in \u001b[36mHTTPHandler.http_open\u001b[39m\u001b[34m(self, req)\u001b[39m\n\u001b[32m   1372\u001b[39m \u001b[38;5;28;01mdef\u001b[39;00m\u001b[38;5;250m \u001b[39m\u001b[34mhttp_open\u001b[39m(\u001b[38;5;28mself\u001b[39m, req):\n\u001b[32m-> \u001b[39m\u001b[32m1373\u001b[39m     \u001b[38;5;28;01mreturn\u001b[39;00m \u001b[38;5;28;43mself\u001b[39;49m\u001b[43m.\u001b[49m\u001b[43mdo_open\u001b[49m\u001b[43m(\u001b[49m\u001b[43mhttp\u001b[49m\u001b[43m.\u001b[49m\u001b[43mclient\u001b[49m\u001b[43m.\u001b[49m\u001b[43mHTTPConnection\u001b[49m\u001b[43m,\u001b[49m\u001b[43m \u001b[49m\u001b[43mreq\u001b[49m\u001b[43m)\u001b[49m\n",
      "\u001b[36mFile \u001b[39m\u001b[32mC:\\Python312\\Lib\\urllib\\request.py:1348\u001b[39m, in \u001b[36mAbstractHTTPHandler.do_open\u001b[39m\u001b[34m(self, http_class, req, **http_conn_args)\u001b[39m\n\u001b[32m   1346\u001b[39m     \u001b[38;5;28;01mexcept\u001b[39;00m \u001b[38;5;167;01mOSError\u001b[39;00m \u001b[38;5;28;01mas\u001b[39;00m err: \u001b[38;5;66;03m# timeout error\u001b[39;00m\n\u001b[32m   1347\u001b[39m         \u001b[38;5;28;01mraise\u001b[39;00m URLError(err)\n\u001b[32m-> \u001b[39m\u001b[32m1348\u001b[39m     r = \u001b[43mh\u001b[49m\u001b[43m.\u001b[49m\u001b[43mgetresponse\u001b[49m\u001b[43m(\u001b[49m\u001b[43m)\u001b[49m\n\u001b[32m   1349\u001b[39m \u001b[38;5;28;01mexcept\u001b[39;00m:\n\u001b[32m   1350\u001b[39m     h.close()\n",
      "\u001b[36mFile \u001b[39m\u001b[32mC:\\Python312\\Lib\\http\\client.py:1411\u001b[39m, in \u001b[36mHTTPConnection.getresponse\u001b[39m\u001b[34m(self)\u001b[39m\n\u001b[32m   1409\u001b[39m \u001b[38;5;28;01mtry\u001b[39;00m:\n\u001b[32m   1410\u001b[39m     \u001b[38;5;28;01mtry\u001b[39;00m:\n\u001b[32m-> \u001b[39m\u001b[32m1411\u001b[39m         \u001b[43mresponse\u001b[49m\u001b[43m.\u001b[49m\u001b[43mbegin\u001b[49m\u001b[43m(\u001b[49m\u001b[43m)\u001b[49m\n\u001b[32m   1412\u001b[39m     \u001b[38;5;28;01mexcept\u001b[39;00m \u001b[38;5;167;01mConnectionError\u001b[39;00m:\n\u001b[32m   1413\u001b[39m         \u001b[38;5;28mself\u001b[39m.close()\n",
      "\u001b[36mFile \u001b[39m\u001b[32mC:\\Python312\\Lib\\http\\client.py:324\u001b[39m, in \u001b[36mHTTPResponse.begin\u001b[39m\u001b[34m(self)\u001b[39m\n\u001b[32m    322\u001b[39m \u001b[38;5;66;03m# read until we get a non-100 response\u001b[39;00m\n\u001b[32m    323\u001b[39m \u001b[38;5;28;01mwhile\u001b[39;00m \u001b[38;5;28;01mTrue\u001b[39;00m:\n\u001b[32m--> \u001b[39m\u001b[32m324\u001b[39m     version, status, reason = \u001b[38;5;28;43mself\u001b[39;49m\u001b[43m.\u001b[49m\u001b[43m_read_status\u001b[49m\u001b[43m(\u001b[49m\u001b[43m)\u001b[49m\n\u001b[32m    325\u001b[39m     \u001b[38;5;28;01mif\u001b[39;00m status != CONTINUE:\n\u001b[32m    326\u001b[39m         \u001b[38;5;28;01mbreak\u001b[39;00m\n",
      "\u001b[36mFile \u001b[39m\u001b[32mC:\\Python312\\Lib\\http\\client.py:285\u001b[39m, in \u001b[36mHTTPResponse._read_status\u001b[39m\u001b[34m(self)\u001b[39m\n\u001b[32m    284\u001b[39m \u001b[38;5;28;01mdef\u001b[39;00m\u001b[38;5;250m \u001b[39m\u001b[34m_read_status\u001b[39m(\u001b[38;5;28mself\u001b[39m):\n\u001b[32m--> \u001b[39m\u001b[32m285\u001b[39m     line = \u001b[38;5;28mstr\u001b[39m(\u001b[38;5;28;43mself\u001b[39;49m\u001b[43m.\u001b[49m\u001b[43mfp\u001b[49m\u001b[43m.\u001b[49m\u001b[43mreadline\u001b[49m\u001b[43m(\u001b[49m\u001b[43m_MAXLINE\u001b[49m\u001b[43m \u001b[49m\u001b[43m+\u001b[49m\u001b[43m \u001b[49m\u001b[32;43m1\u001b[39;49m\u001b[43m)\u001b[49m, \u001b[33m\"\u001b[39m\u001b[33miso-8859-1\u001b[39m\u001b[33m\"\u001b[39m)\n\u001b[32m    286\u001b[39m     \u001b[38;5;28;01mif\u001b[39;00m \u001b[38;5;28mlen\u001b[39m(line) > _MAXLINE:\n\u001b[32m    287\u001b[39m         \u001b[38;5;28;01mraise\u001b[39;00m LineTooLong(\u001b[33m\"\u001b[39m\u001b[33mstatus line\u001b[39m\u001b[33m\"\u001b[39m)\n",
      "\u001b[36mFile \u001b[39m\u001b[32mC:\\Python312\\Lib\\socket.py:707\u001b[39m, in \u001b[36mSocketIO.readinto\u001b[39m\u001b[34m(self, b)\u001b[39m\n\u001b[32m    705\u001b[39m \u001b[38;5;28;01mwhile\u001b[39;00m \u001b[38;5;28;01mTrue\u001b[39;00m:\n\u001b[32m    706\u001b[39m     \u001b[38;5;28;01mtry\u001b[39;00m:\n\u001b[32m--> \u001b[39m\u001b[32m707\u001b[39m         \u001b[38;5;28;01mreturn\u001b[39;00m \u001b[38;5;28;43mself\u001b[39;49m\u001b[43m.\u001b[49m\u001b[43m_sock\u001b[49m\u001b[43m.\u001b[49m\u001b[43mrecv_into\u001b[49m\u001b[43m(\u001b[49m\u001b[43mb\u001b[49m\u001b[43m)\u001b[49m\n\u001b[32m    708\u001b[39m     \u001b[38;5;28;01mexcept\u001b[39;00m timeout:\n\u001b[32m    709\u001b[39m         \u001b[38;5;28mself\u001b[39m._timeout_occurred = \u001b[38;5;28;01mTrue\u001b[39;00m\n",
      "\u001b[31mKeyboardInterrupt\u001b[39m: "
     ]
    }
   ],
   "source": [
    "\n",
    "FREQUENCY_LIMIT = 10      \n",
    "\n",
    "start_time = time.time()\n",
    "end_time = start_time + 10\n",
    "batch_size = 10000\n",
    "i = 0\n",
    "\n",
    "filename = f'extractions/XML/arxiv_data_{datetime.now().strftime(\"%Y%m%d_%H%M%S\")}.xml'\n",
    "\n",
    "with open(filename, 'ab') as f:\n",
    "    while time.time() < end_time:\n",
    "        start = str(i * batch_size)\n",
    "        max_results = str(batch_size) \n",
    "\n",
    "        # Construction de l'URL avec des paramètres distincts pour start et max_results\n",
    "        url = f'http://export.arxiv.org/api/query?search_query=all&start={start}&max_results={max_results}'\n",
    "        \n",
    "        try:\n",
    "            with libreq.urlopen(url) as response:\n",
    "                r = response.read()\n",
    "                # Écriture du contenu XML dans le fichier unique\n",
    "                f.write(r)\n",
    "        except libreq.HTTPError as e:\n",
    "            error_data = e.read()\n",
    "            try:\n",
    "                # Parsing du XML de l'erreur pour extraire le contenu du tag <summary>\n",
    "                root = ET.fromstring(error_data)\n",
    "                summary = root.find('.//{http://www.w3.org/2005/Atom}summary')\n",
    "                if summary is not None:\n",
    "                    print(f\"HTTP Error {e.code}: {summary.text}\")\n",
    "                else:\n",
    "                    print(f\"HTTP Error {e.code}: Erreur inconnue, impossible de trouver le résumé\")\n",
    "            except Exception as parse_error:\n",
    "                print(f\"HTTP Error {e.code}: Erreur lors du parsing du XML d'erreur - {parse_error}\")\n",
    "        except Exception as ex:\n",
    "            print(f\"Une autre erreur s'est produite: {ex}\")\n",
    "            \n",
    "        \n",
    "        time.sleep(FREQUENCY_LIMIT)\n",
    "        i += 1\n"
   ]
  },
  {
   "cell_type": "code",
   "execution_count": null,
   "metadata": {},
   "outputs": [],
   "source": [
    "filename = f'extractions/XML/tests.xml'\n",
    "\n",
    "with open(filename, 'ab') as f:    \n",
    "    start = str(0 * 1000)\n",
    "    max_results = str(1000) \n",
    "\n",
    "    # Construction de l'URL avec des paramètres distincts pour start et max_results\n",
    "    url = f'http://export.arxiv.org/api/query?search_query=cat:math'\n",
    "\n",
    "    try:\n",
    "        with libreq.urlopen(url) as response:\n",
    "            r = response.read()\n",
    "            # Écriture du contenu XML dans le fichier unique\n",
    "            f.write(r)\n",
    "    except libreq.HTTPError as e:\n",
    "        error_data = e.read()\n",
    "        try:\n",
    "            # Parsing du XML de l'erreur pour extraire le contenu du tag <summary>\n",
    "            root = ET.fromstring(error_data)\n",
    "            summary = root.find('.//{http://www.w3.org/2005/Atom}summary')\n",
    "            if summary is not None:\n",
    "                print(f\"HTTP Error {e.code}: {summary.text}\")\n",
    "            else:\n",
    "                print(f\"HTTP Error {e.code}: Erreur inconnue, impossible de trouver le résumé\")\n",
    "        except Exception as parse_error:\n",
    "            print(f\"HTTP Error {e.code}: Erreur lors du parsing du XML d'erreur - {parse_error}\")\n",
    "    except Exception as ex:\n",
    "        print(f\"Une autre erreur s'est produite: {ex}\")"
   ]
  },
  {
   "cell_type": "code",
   "execution_count": null,
   "metadata": {},
   "outputs": [
    {
     "name": "stdout",
     "output_type": "stream",
     "text": [
      "Processed 20900 articles\n"
     ]
    }
   ],
   "source": [
    "\n",
    "XML_file = f'extractions/XML/arxiv_data_20250304_183712.XML'\n",
    "CSV_file = f'extractions/CSV/arxiv_data_{time.time()}.csv'\n",
    "\n",
    "# Define the namespace dictionary for XML parsing\n",
    "namespaces = {\n",
    "    'atom': 'http://www.w3.org/2005/Atom',\n",
    "    'arxiv': 'http://arxiv.org/schemas/atom'\n",
    "}\n",
    "\n",
    "# Function to parse a single entry\n",
    "def parse_entry(entry):\n",
    "    # Extract basic information\n",
    "    article = {\n",
    "        'id': entry.find('atom:id', namespaces).text,\n",
    "        'title': entry.find('atom:title', namespaces).text.strip(),\n",
    "        'published': entry.find('atom:published', namespaces).text,\n",
    "        'updated': entry.find('atom:updated', namespaces).text,\n",
    "        'summary': entry.find('atom:summary', namespaces).text.strip(),\n",
    "    }\n",
    "    \n",
    "    # Extract authors\n",
    "    authors = [author.find('atom:name', namespaces).text \n",
    "              for author in entry.findall('atom:author', namespaces)]\n",
    "    article['authors'] = '; '.join(authors)\n",
    "    \n",
    "    # Extract DOI if available\n",
    "    doi = entry.find('arxiv:doi', namespaces)\n",
    "    article['doi'] = doi.text if doi is not None else None\n",
    "    \n",
    "    # Extract categories\n",
    "    primary_category = entry.find('arxiv:primary_category', namespaces)\n",
    "    article['primary_category'] = primary_category.get('term') if primary_category is not None else None\n",
    "    \n",
    "    return article\n",
    "\n",
    "# Parse the XML file and create a list of articles\n",
    "articles = []\n",
    "\n",
    "# Read and process the XML content\n",
    "with open(XML_file, 'r', encoding='utf-8', errors='replace') as file:\n",
    "    content = file.read()\n",
    "\n",
    "# Split the content properly at the XML document boundaries\n",
    "xml_docs = content.split('<?xml version=\"1.0\" encoding=\"UTF-8\"?>')\n",
    "for doc in xml_docs:\n",
    "    if not doc.strip():  # Skip empty strings\n",
    "        continue\n",
    "    \n",
    "    # Reconstruct proper XML document\n",
    "    doc = '<?xml version=\"1.0\" encoding=\"UTF-8\"?>' + doc\n",
    "    try:\n",
    "        root = ET.fromstring(doc)\n",
    "        # Process each entry\n",
    "        entries = root.findall('.//atom:entry', namespaces)\n",
    "        for entry in entries:\n",
    "            article_data = parse_entry(entry)\n",
    "            articles.append(article_data)\n",
    "    except ET.ParseError as e:\n",
    "        print(f\"Skipping malformed XML document: {str(e)}\")\n",
    "        continue\n",
    "\n",
    "# Create DataFrame and save to CSV\n",
    "df = pd.DataFrame(articles)\n",
    "df.to_csv(CSV_file, index=False)\n",
    "print(f\"Processed {len(articles)} articles\")"
   ]
  },
  {
   "cell_type": "code",
   "execution_count": 6,
   "metadata": {},
   "outputs": [
    {
     "data": {
      "text/plain": [
       "20900"
      ]
     },
     "execution_count": 6,
     "metadata": {},
     "output_type": "execute_result"
    }
   ],
   "source": [
    "len(df.id.unique())"
   ]
  },
  {
   "cell_type": "code",
   "execution_count": 7,
   "metadata": {},
   "outputs": [
    {
     "data": {
      "text/html": [
       "<div>\n",
       "<style scoped>\n",
       "    .dataframe tbody tr th:only-of-type {\n",
       "        vertical-align: middle;\n",
       "    }\n",
       "\n",
       "    .dataframe tbody tr th {\n",
       "        vertical-align: top;\n",
       "    }\n",
       "\n",
       "    .dataframe thead th {\n",
       "        text-align: right;\n",
       "    }\n",
       "</style>\n",
       "<table border=\"1\" class=\"dataframe\">\n",
       "  <thead>\n",
       "    <tr style=\"text-align: right;\">\n",
       "      <th></th>\n",
       "      <th>id</th>\n",
       "      <th>title</th>\n",
       "      <th>published</th>\n",
       "      <th>updated</th>\n",
       "      <th>summary</th>\n",
       "      <th>authors</th>\n",
       "      <th>doi</th>\n",
       "      <th>primary_category</th>\n",
       "    </tr>\n",
       "  </thead>\n",
       "  <tbody>\n",
       "    <tr>\n",
       "      <th>0</th>\n",
       "      <td>http://arxiv.org/abs/2401.04381v1</td>\n",
       "      <td>Spaces where all bijections are morphisms</td>\n",
       "      <td>2024-01-09T07:01:04Z</td>\n",
       "      <td>2024-01-09T07:01:04Z</td>\n",
       "      <td>Here we classify all topological spaces where ...</td>\n",
       "      <td>Lucas H. R. de Souza</td>\n",
       "      <td>None</td>\n",
       "      <td>math.GN</td>\n",
       "    </tr>\n",
       "    <tr>\n",
       "      <th>1</th>\n",
       "      <td>http://arxiv.org/abs/1911.11405v1</td>\n",
       "      <td>A Note on Computational Complexity of Kill-all Go</td>\n",
       "      <td>2019-11-26T08:49:54Z</td>\n",
       "      <td>2019-11-26T08:49:54Z</td>\n",
       "      <td>Kill-all Go is a variant of Go in which Black ...</td>\n",
       "      <td>Zhujun Zhang</td>\n",
       "      <td>None</td>\n",
       "      <td>cs.CC</td>\n",
       "    </tr>\n",
       "    <tr>\n",
       "      <th>2</th>\n",
       "      <td>http://arxiv.org/abs/2501.13404v1</td>\n",
       "      <td>Classification of Homogeneous Local Representa...</td>\n",
       "      <td>2025-01-23T06:06:47Z</td>\n",
       "      <td>2025-01-23T06:06:47Z</td>\n",
       "      <td>For a natural number $n$, denote by $B_n$ the ...</td>\n",
       "      <td>Taher I. Mayassi; Mohamad N. Nasser</td>\n",
       "      <td>None</td>\n",
       "      <td>math.RT</td>\n",
       "    </tr>\n",
       "    <tr>\n",
       "      <th>3</th>\n",
       "      <td>http://arxiv.org/abs/1210.7708v1</td>\n",
       "      <td>Landau--Kolmogorov inequality revisited</td>\n",
       "      <td>2012-10-29T16:12:41Z</td>\n",
       "      <td>2012-10-29T16:12:41Z</td>\n",
       "      <td>The Landau-Kolmogorov problem consists of find...</td>\n",
       "      <td>Alexei Shadrin</td>\n",
       "      <td>None</td>\n",
       "      <td>math.NA</td>\n",
       "    </tr>\n",
       "    <tr>\n",
       "      <th>4</th>\n",
       "      <td>http://arxiv.org/abs/1602.00450v1</td>\n",
       "      <td>All-in-all-out magnetic domain wall conduction...</td>\n",
       "      <td>2016-02-01T09:53:30Z</td>\n",
       "      <td>2016-02-01T09:53:30Z</td>\n",
       "      <td>Pyrochlore oxides possessing \"all-in-all-out\" ...</td>\n",
       "      <td>T. C. Fujita; M. Uchida; Y. Kozuka; W. Sano; A...</td>\n",
       "      <td>10.1103/PhysRevB.93.064419</td>\n",
       "      <td>cond-mat.mtrl-sci</td>\n",
       "    </tr>\n",
       "  </tbody>\n",
       "</table>\n",
       "</div>"
      ],
      "text/plain": [
       "                                  id  \\\n",
       "0  http://arxiv.org/abs/2401.04381v1   \n",
       "1  http://arxiv.org/abs/1911.11405v1   \n",
       "2  http://arxiv.org/abs/2501.13404v1   \n",
       "3   http://arxiv.org/abs/1210.7708v1   \n",
       "4  http://arxiv.org/abs/1602.00450v1   \n",
       "\n",
       "                                               title             published  \\\n",
       "0          Spaces where all bijections are morphisms  2024-01-09T07:01:04Z   \n",
       "1  A Note on Computational Complexity of Kill-all Go  2019-11-26T08:49:54Z   \n",
       "2  Classification of Homogeneous Local Representa...  2025-01-23T06:06:47Z   \n",
       "3            Landau--Kolmogorov inequality revisited  2012-10-29T16:12:41Z   \n",
       "4  All-in-all-out magnetic domain wall conduction...  2016-02-01T09:53:30Z   \n",
       "\n",
       "                updated                                            summary  \\\n",
       "0  2024-01-09T07:01:04Z  Here we classify all topological spaces where ...   \n",
       "1  2019-11-26T08:49:54Z  Kill-all Go is a variant of Go in which Black ...   \n",
       "2  2025-01-23T06:06:47Z  For a natural number $n$, denote by $B_n$ the ...   \n",
       "3  2012-10-29T16:12:41Z  The Landau-Kolmogorov problem consists of find...   \n",
       "4  2016-02-01T09:53:30Z  Pyrochlore oxides possessing \"all-in-all-out\" ...   \n",
       "\n",
       "                                             authors  \\\n",
       "0                               Lucas H. R. de Souza   \n",
       "1                                       Zhujun Zhang   \n",
       "2                Taher I. Mayassi; Mohamad N. Nasser   \n",
       "3                                     Alexei Shadrin   \n",
       "4  T. C. Fujita; M. Uchida; Y. Kozuka; W. Sano; A...   \n",
       "\n",
       "                          doi   primary_category  \n",
       "0                        None            math.GN  \n",
       "1                        None              cs.CC  \n",
       "2                        None            math.RT  \n",
       "3                        None            math.NA  \n",
       "4  10.1103/PhysRevB.93.064419  cond-mat.mtrl-sci  "
      ]
     },
     "execution_count": 7,
     "metadata": {},
     "output_type": "execute_result"
    }
   ],
   "source": [
    "df.head()"
   ]
  },
  {
   "cell_type": "code",
   "execution_count": 8,
   "metadata": {},
   "outputs": [
    {
     "name": "stdout",
     "output_type": "stream",
     "text": [
      "163\n"
     ]
    }
   ],
   "source": [
    "print(len(df.primary_category.unique()))"
   ]
  },
  {
   "cell_type": "code",
   "execution_count": 11,
   "metadata": {},
   "outputs": [
    {
     "data": {
      "image/png": "[encoded data removed]",
      "text/plain": [
       "<Figure size 1200x600 with 1 Axes>"
      ]
     },
     "metadata": {},
     "output_type": "display_data"
    }
   ],
   "source": [
    "import matplotlib.pyplot as plt\n",
    "cats = df.primary_category.value_counts()\n",
    "plt.figure(figsize=(12, 6))\n",
    "plt.bar(cats.index, cats.values)\n",
    "plt.xticks(rotation=45, ha='right')\n",
    "plt.title('Distribution of Primary Categories')\n",
    "plt.xlabel('Category')\n",
    "plt.ylabel('Count')\n",
    "plt.show()"
   ]
  },
  {
   "cell_type": "code",
   "execution_count": 12,
   "metadata": {},
   "outputs": [
    {
     "data": {
      "text/plain": [
       "19987"
      ]
     },
     "execution_count": 12,
     "metadata": {},
     "output_type": "execute_result"
    }
   ],
   "source": [
    "len(df.authors.unique())"
   ]
  },
  {
   "cell_type": "code",
   "execution_count": 13,
   "metadata": {},
   "outputs": [
    {
     "data": {
      "text/plain": [
       "array(['Lucas H. R. de Souza', 'Zhujun Zhang',\n",
       "       'Taher I. Mayassi; Mohamad N. Nasser', ...,\n",
       "       'Garance Gourdel; Anne Driemel; Pierre Peterlongo; Tatiana Starikovskaya',\n",
       "       'Alexandre Lambert; Manolo Dulva Hina; Celine Barth; Assia Soukane; Amar Ramdane-Cherif',\n",
       "       'Louis Vaslin; Samuel Calvet; Vincent Barra; Julien Donini'],\n",
       "      shape=(19987,), dtype=object)"
      ]
     },
     "execution_count": 13,
     "metadata": {},
     "output_type": "execute_result"
    }
   ],
   "source": [
    "authors = df.authors.unique()\n",
    "authors"
   ]
  },
  {
   "cell_type": "code",
   "execution_count": 14,
   "metadata": {},
   "outputs": [
    {
     "name": "stdout",
     "output_type": "stream",
     "text": [
      "['Taher I. Mayassi', ' Mohamad N. Nasser']\n",
      "['T. C. Fujita', ' M. Uchida; Y. Kozuka; W. Sano; A. Tsukazaki; T. Arima; M. Kawasaki']\n"
     ]
    }
   ],
   "source": [
    "test = 'Taher I. Mayassi; Mohamad N. Nasser'\n",
    "first = list(test.partition(';'))\n",
    "out = []\n",
    "for i in range(0, len(first), 2):\n",
    "    out.append(first[i])\n",
    "\n",
    "print(out)\n",
    "\n",
    "def list_authors(str_authors):\n",
    "    l = list(str_authors.partition(';'))\n",
    "    out = []\n",
    "    for i in range(0, len(l), 2):\n",
    "        out.append(l[i])\n",
    "    \n",
    "    return out\n",
    "print(list_authors('T. C. Fujita; M. Uchida; Y. Kozuka; W. Sano; A. Tsukazaki; T. Arima; M. Kawasaki'))"
   ]
  },
  {
   "cell_type": "code",
   "execution_count": 15,
   "metadata": {},
   "outputs": [
    {
     "data": {
      "text/plain": [
       "['T. C. Fujita',\n",
       " 'M. Uchida',\n",
       " 'Y. Kozuka',\n",
       " 'W. Sano',\n",
       " 'A. Tsukazaki',\n",
       " 'T. Arima',\n",
       " 'M. Kawasaki']"
      ]
     },
     "execution_count": 15,
     "metadata": {},
     "output_type": "execute_result"
    }
   ],
   "source": [
    "import numpy as np \n",
    "\n",
    "test = 'T. C. Fujita; M. Uchida; Y. Kozuka; W. Sano; A. Tsukazaki; T. Arima; M. Kawasaki'\n",
    "\n",
    "def auth_str_to_list(auth_str):\n",
    "    copy = auth_str\n",
    "    still_separable = True\n",
    "    out = []\n",
    "    while still_separable:\n",
    "        idx = copy.find(';')\n",
    "        if idx == -1:\n",
    "            out.append(copy.strip())\n",
    "            still_separable = False\n",
    "        else:\n",
    "            out.append(copy[:idx].strip())\n",
    "            copy = copy[idx+1:]\n",
    "\n",
    "    return out\n",
    "\n",
    "auth_str_to_list(test)\n"
   ]
  },
  {
   "cell_type": "code",
   "execution_count": 16,
   "metadata": {},
   "outputs": [
    {
     "name": "stdout",
     "output_type": "stream",
     "text": [
      "56111\n"
     ]
    }
   ],
   "source": [
    "unique_authors = []\n",
    "for auth in authors:\n",
    "    l_authors = auth_str_to_list(auth)\n",
    "    for author in l_authors:\n",
    "        unique_authors.append(author)\n",
    "\n",
    "print(len(unique_authors))"
   ]
  },
  {
   "cell_type": "code",
   "execution_count": 17,
   "metadata": {},
   "outputs": [],
   "source": [
    "\n",
    "network = {author:[] for author in unique_authors}\n",
    "for i in range(len(df)):\n",
    "    paper_authors = df.iloc[i].authors\n",
    "    authors_list = auth_str_to_list(paper_authors)\n",
    "    nbr_authors = len(authors_list)\n",
    "    if nbr_authors > 1:\n",
    "        for j in range(nbr_authors):\n",
    "            for k in range(nbr_authors):\n",
    "                if j != k and not (authors_list[k] in network[authors_list[j]]):\n",
    "                    network[authors_list[j]] += [authors_list[k]]\n",
    "\n"
   ]
  },
  {
   "cell_type": "code",
   "execution_count": 19,
   "metadata": {},
   "outputs": [
    {
     "name": "stdout",
     "output_type": "stream",
     "text": [
      "[]\n",
      "[]\n",
      "['Mohamad N. Nasser']\n",
      "['Taher I. Mayassi']\n",
      "[]\n",
      "['M. Uchida', 'Y. Kozuka', 'W. Sano', 'A. Tsukazaki', 'T. Arima', 'M. Kawasaki', 'S. Ogawa']\n",
      "['T. C. Fujita', 'Y. Kozuka', 'W. Sano', 'A. Tsukazaki', 'T. Arima', 'M. Kawasaki', 'S. Ogawa']\n",
      "['T. C. Fujita', 'M. Uchida', 'W. Sano', 'A. Tsukazaki', 'T. Arima', 'M. Kawasaki', 'S. Ogawa']\n",
      "['T. C. Fujita', 'M. Uchida', 'Y. Kozuka', 'A. Tsukazaki', 'T. Arima', 'M. Kawasaki']\n",
      "['T. C. Fujita', 'M. Uchida', 'Y. Kozuka', 'W. Sano', 'T. Arima', 'M. Kawasaki', 'S. Ogawa', 'K. Ueda', 'J. Fujioka', 'B. -J. Yang', 'J. Shiogai', 'S. Nakamura', 'S. Awaji', 'N. Nagaosa', 'Y. Tokura']\n",
      "['T. C. Fujita', 'M. Uchida', 'Y. Kozuka', 'W. Sano', 'A. Tsukazaki', 'M. Kawasaki', 'S. Ogawa', 'J. Yamaura', 'K. Ohgushi', 'H. Ohsumi', 'T. Hasegawa', 'I. Yamauchi', 'K. Sugimoto', 'S. Takeshita', 'A. Tokuda', 'M. Takata', 'M. Udagawa', 'M. Takigawa', 'H. Harima', 'Z. Hiroi']\n",
      "['T. C. Fujita', 'M. Uchida', 'Y. Kozuka', 'W. Sano', 'A. Tsukazaki', 'T. Arima', 'S. Ogawa']\n",
      "['Bader AlBdaiwi', 'Anton Cerny', 'Hesham AlMansouri', 'Mohammad Awadh', 'Hesham Almansouri']\n",
      "['Liangyu Zhao', 'Jason Fantl', 'Siddharth Pal', 'Arvind Krishnamurthy', 'Joud Khoury']\n",
      "['Prithwish Basu', 'Jason Fantl', 'Siddharth Pal', 'Arvind Krishnamurthy', 'Joud Khoury']\n",
      "['Prithwish Basu', 'Liangyu Zhao', 'Siddharth Pal', 'Arvind Krishnamurthy', 'Joud Khoury']\n",
      "['Prithwish Basu', 'Liangyu Zhao', 'Jason Fantl', 'Arvind Krishnamurthy', 'Joud Khoury']\n",
      "['Prithwish Basu', 'Liangyu Zhao', 'Jason Fantl', 'Siddharth Pal', 'Joud Khoury', 'Qiao Zhang', 'Danyang Zhuo', 'Vincent Liu', 'Petr Lapukhov', 'Simon Peter', 'Thomas Anderson']\n",
      "['Prithwish Basu', 'Liangyu Zhao', 'Jason Fantl', 'Siddharth Pal', 'Arvind Krishnamurthy']\n",
      "['Vítor H. Fernandes', 'Jörg Koppitz']\n"
     ]
    }
   ],
   "source": [
    "\n",
    "for i in range(0,20):\n",
    "    print(network[unique_authors[i]])\n",
    "    "
   ]
  },
  {
   "cell_type": "code",
   "execution_count": null,
   "metadata": {},
   "outputs": [
    {
     "ename": "ValueError",
     "evalue": "DataFrame constructor not properly called!",
     "output_type": "error",
     "traceback": [
      "\u001b[31m---------------------------------------------------------------------------\u001b[39m",
      "\u001b[31mValueError\u001b[39m                                Traceback (most recent call last)",
      "\u001b[32m~\\AppData\\Local\\Temp\\ipykernel_19628\\342465203.py\u001b[39m in \u001b[36m?\u001b[39m\u001b[34m()\u001b[39m\n\u001b[32m----> \u001b[39m\u001b[32m1\u001b[39m test_df = pd.DataFrame(\u001b[33m\"scraper/extractions/CSV/arxiv_data_1741086269.448.csv\"\u001b[39m)\n\u001b[32m      2\u001b[39m test_df.head()\n",
      "\u001b[32mc:\\Users\\cheri\\nsi\\M1\\Arxiv-ML\\env\\Lib\\site-packages\\pandas\\core\\frame.py\u001b[39m in \u001b[36m?\u001b[39m\u001b[34m(self, data, index, columns, dtype, copy)\u001b[39m\n\u001b[32m    882\u001b[39m                 )\n\u001b[32m    883\u001b[39m         \u001b[38;5;66;03m# For data is scalar\u001b[39;00m\n\u001b[32m    884\u001b[39m         \u001b[38;5;28;01melse\u001b[39;00m:\n\u001b[32m    885\u001b[39m             \u001b[38;5;28;01mif\u001b[39;00m index \u001b[38;5;28;01mis\u001b[39;00m \u001b[38;5;28;01mNone\u001b[39;00m \u001b[38;5;28;01mor\u001b[39;00m columns \u001b[38;5;28;01mis\u001b[39;00m \u001b[38;5;28;01mNone\u001b[39;00m:\n\u001b[32m--> \u001b[39m\u001b[32m886\u001b[39m                 \u001b[38;5;28;01mraise\u001b[39;00m ValueError(\u001b[33m\"DataFrame constructor not properly called!\"\u001b[39m)\n\u001b[32m    887\u001b[39m \n\u001b[32m    888\u001b[39m             index = ensure_index(index)\n\u001b[32m    889\u001b[39m             columns = ensure_index(columns)\n",
      "\u001b[31mValueError\u001b[39m: DataFrame constructor not properly called!"
     ]
    }
   ],
   "source": [
    "test_df = pd.read_csv(\"scraper/extractions/CSV/arxiv_data_1741086269.448.csv\")\n",
    "\n",
    "test_df.head()"
   ]
  },
  {
   "cell_type": "code",
   "execution_count": 4,
   "metadata": {},
   "outputs": [
    {
     "name": "stdout",
     "output_type": "stream",
     "text": [
      "cond-mat: 9 subcategories\n",
      "hep-th: 0 subcategories\n",
      "hep-ex: 0 subcategories\n",
      "hep-ph: 0 subcategories\n",
      "gr-qc: 0 subcategories\n",
      "quant-ph: 0 subcategories\n",
      "q-fin: 9 subcategories\n",
      "nucl-ex: 0 subcategories\n",
      "CoRR: 0 subcategories\n",
      "nlin: 5 subcategories\n",
      "physics: 22 subcategories\n",
      "math-ph: 0 subcategories\n",
      "math: 32 subcategories\n",
      "q-bio: 10 subcategories\n",
      "nucl-th: 0 subcategories\n",
      "stat: 6 subcategories\n",
      "hep-lat: 0 subcategories\n",
      "astro-ph: 6 subcategories\n",
      "cs: 38 subcategories\n",
      "econ: 3 subcategories\n",
      "eess: 4 subcategories\n",
      "total 144\n"
     ]
    },
    {
     "data": {
      "text/plain": [
       "2880000"
      ]
     },
     "execution_count": 4,
     "metadata": {},
     "output_type": "execute_result"
    }
   ],
   "source": [
    "subcats = {\n",
    "    \"cond-mat\": [\n",
    "        \"cond-mat.dis-nn\",\n",
    "        \"cond-mat.mtrl-sci\",\n",
    "        \"cond-mat.mes-hall\",\n",
    "        \"cond-mat.other\",\n",
    "        \"cond-mat.quant-gas\",\n",
    "        \"cond-mat.soft\",\n",
    "        \"cond-mat.stat-mech\",\n",
    "        \"cond-mat.str-el\",\n",
    "        \"cond-mat.supr-con\",\n",
    "    ],\n",
    "    \"hep-th\": [],\n",
    "    \"hep-ex\": [],\n",
    "    \"hep-ph\": [],\n",
    "    \"gr-qc\": [],\n",
    "    \"quant-ph\": [],\n",
    "    \"q-fin\": [\n",
    "        \"q-fin.CP\",\n",
    "        \"q-fin.EC\",\n",
    "        \"q-fin.GN\",\n",
    "        \"q-fin.MF\",\n",
    "        \"q-fin.PM\",\n",
    "        \"q-fin.PR\",\n",
    "        \"q-fin.RM\",\n",
    "        \"q-fin.ST\",\n",
    "        \"q-fin.TR\",\n",
    "    ],\n",
    "    \"nucl-ex\": [],\n",
    "    \"CoRR\": [],\n",
    "    \"nlin\": [\n",
    "        \"nlin.AO\",\n",
    "        \"nlin.CG\",\n",
    "        \"nlin.CD\",\n",
    "        \"nlin.SI\",\n",
    "        \"nlin.PS\",\n",
    "    ],\n",
    "    \"physics\": [\n",
    "        \"physics.acc-ph\",\n",
    "        \"physics.app-ph\",\n",
    "        \"physics.ao-ph\",\n",
    "        \"physics.atom-ph\",\n",
    "        \"physics.atm-clus\",\n",
    "        \"physics.bio-ph\",\n",
    "        \"physics.chem-ph\",\n",
    "        \"physics.class-ph\",\n",
    "        \"physics.comp-ph\",\n",
    "        \"physics.data-an\",\n",
    "        \"physics.flu-dyn\",\n",
    "        \"physics.gen-ph\",\n",
    "        \"physics.geo-ph\",\n",
    "        \"physics.hist-ph\",\n",
    "        \"physics.ins-det\",\n",
    "        \"physics.med-ph\",\n",
    "        \"physics.optics\",\n",
    "        \"physics.ed-ph\",\n",
    "        \"physics.soc-ph\",\n",
    "        \"physics.plasm-ph\",\n",
    "        \"physics.pop-ph\",\n",
    "        \"physics.space-ph\",\n",
    "    ],\n",
    "    \"math-ph\": [],\n",
    "    \"math\": [\n",
    "        \"math.AG\",\n",
    "        \"math.AT\",\n",
    "        \"math.AP\",\n",
    "        \"math.CT\",\n",
    "        \"math.CA\",\n",
    "        \"math.CO\",\n",
    "        \"math.AC\",\n",
    "        \"math.CV\",\n",
    "        \"math.DG\",\n",
    "        \"math.DS\",\n",
    "        \"math.FA\",\n",
    "        \"math.GM\",\n",
    "        \"math.GN\",\n",
    "        \"math.GT\",\n",
    "        \"math.GR\",\n",
    "        \"math.HO\",\n",
    "        \"math.IT\",\n",
    "        \"math.KT\",\n",
    "        \"math.LO\",\n",
    "        \"math.MP\",\n",
    "        \"math.MG\",\n",
    "        \"math.NT\",\n",
    "        \"math.NA\",\n",
    "        \"math.OA\",\n",
    "        \"math.OC\",\n",
    "        \"math.PR\",\n",
    "        \"math.QA\",\n",
    "        \"math.RT\",\n",
    "        \"math.RA\",\n",
    "        \"math.SP\",\n",
    "        \"math.ST\",\n",
    "        \"math.SG\",\n",
    "    ],\n",
    "    \"q-bio\": [\n",
    "        \"q-bio.BM\",\n",
    "        \"q-bio.CB\",\n",
    "        \"q-bio.GN\",\n",
    "        \"q-bio.MN\",\n",
    "        \"q-bio.NC\",\n",
    "        \"q-bio.OT\",\n",
    "        \"q-bio.PE\",\n",
    "        \"q-bio.QM\",\n",
    "        \"q-bio.SC\",\n",
    "        \"q-bio.TO\",\n",
    "    ],\n",
    "    \"nucl-th\": [],\n",
    "    \"stat\": [\n",
    "        \"stat.AP\",\n",
    "        \"stat.CO\",\n",
    "        \"stat.ML\",\n",
    "        \"stat.ME\",\n",
    "        \"stat.OT\",\n",
    "        \"stat.TH\",\n",
    "    ],\n",
    "    \"hep-lat\": [],\n",
    "    \"astro-ph\": [\n",
    "        \"astro-ph.GA\",\n",
    "        \"astro-ph.CO\",\n",
    "        \"astro-ph.EP\",\n",
    "        \"astro-ph.HE\",\n",
    "        \"astro-ph.IM\",\n",
    "        \"astro-ph.SR\",\n",
    "    ],\n",
    "    \"cs\": [\n",
    "        \"cs.AI\",\n",
    "        \"cs.AR\",\n",
    "        \"cs.CC\",\n",
    "        \"cs.CE\",\n",
    "        \"cs.CG\",\n",
    "        \"cs.CL\",\n",
    "        \"cs.CR\",\n",
    "        \"cs.CV\",\n",
    "        \"cs.CY\",\n",
    "        \"cs.DB\",\n",
    "        \"cs.DC\",\n",
    "        \"cs.DL\",\n",
    "        \"cs.DM\",\n",
    "        \"cs.DS\",\n",
    "        \"cs.ET\",\n",
    "        \"cs.FL\",\n",
    "        \"cs.GL\",\n",
    "        \"cs.GR\",\n",
    "        \"cs.GT\",\n",
    "        \"cs.HC\",\n",
    "        \"cs.IR\",\n",
    "        \"cs.IT\",\n",
    "        \"cs.LG\",\n",
    "        \"cs.LO\",\n",
    "        \"cs.MA\",\n",
    "        \"cs.MM\",\n",
    "        \"cs.MS\",\n",
    "        \"cs.NE\",\n",
    "        \"cs.NI\",\n",
    "        \"cs.OH\",\n",
    "        \"cs.OS\",\n",
    "        \"cs.PF\",\n",
    "        \"cs.PL\",\n",
    "        \"cs.RO\",\n",
    "        \"cs.SC\",\n",
    "        \"cs.SD\",\n",
    "        \"cs.SE\",\n",
    "        \"cs.SI\",\n",
    "    ],\n",
    "    \"econ\": [\n",
    "        \"econ.EM\",\n",
    "        \"econ.GN\",\n",
    "        \"econ.TH\",\n",
    "    ],\n",
    "    \"eess\": [\n",
    "        \"eess.AS\",\n",
    "        \"eess.IV\",\n",
    "        \"eess.SP\",\n",
    "        \"eess.SY\",\n",
    "    ],\n",
    "}\n",
    "\n",
    "# Count subcategories for each main category\n",
    "subcat_counts = {cat: len(subcats[cat]) for cat in subcats}\n",
    "\n",
    "# Print results\n",
    "final = 0\n",
    "for cat, count in subcat_counts.items():\n",
    "    final += count\n",
    "    print(f\"{cat}: {count} subcategories\")\n",
    "print(f'total {final}')\n",
    "144*20000"
   ]
  }
 ],
 "metadata": {
  "kernelspec": {
   "display_name": "env",
   "language": "python",
   "name": "python3"
  },
  "language_info": {
   "codemirror_mode": {
    "name": "ipython",
    "version": 3
   },
   "file_extension": ".py",
   "mimetype": "text/x-python",
   "name": "python",
   "nbconvert_exporter": "python",
   "pygments_lexer": "ipython3",
   "version": "3.12.0"
  }
 },
 "nbformat": 4,
 "nbformat_minor": 2
}
