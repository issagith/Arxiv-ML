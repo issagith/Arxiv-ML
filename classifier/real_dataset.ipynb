{
 "cells": [
  {
   "cell_type": "code",
   "execution_count": 3,
   "metadata": {},
   "outputs": [],
   "source": [
    "import numpy as np \n",
    "import pandas as pd\n",
    "import matplotlib.pyplot as plt \n",
    "import torch \n",
    "import torch.nn.functional as F"
   ]
  },
  {
   "cell_type": "code",
   "execution_count": 4,
   "metadata": {},
   "outputs": [
    {
     "data": {
      "text/html": [
       "<div>\n",
       "<style scoped>\n",
       "    .dataframe tbody tr th:only-of-type {\n",
       "        vertical-align: middle;\n",
       "    }\n",
       "\n",
       "    .dataframe tbody tr th {\n",
       "        vertical-align: top;\n",
       "    }\n",
       "\n",
       "    .dataframe thead th {\n",
       "        text-align: right;\n",
       "    }\n",
       "</style>\n",
       "<table border=\"1\" class=\"dataframe\">\n",
       "  <thead>\n",
       "    <tr style=\"text-align: right;\">\n",
       "      <th></th>\n",
       "      <th>id</th>\n",
       "      <th>title</th>\n",
       "      <th>summary</th>\n",
       "      <th>category</th>\n",
       "      <th>authors</th>\n",
       "      <th>published</th>\n",
       "      <th>updated</th>\n",
       "    </tr>\n",
       "  </thead>\n",
       "  <tbody>\n",
       "    <tr>\n",
       "      <th>0</th>\n",
       "      <td>http://arxiv.org/abs/2503.04552v1</td>\n",
       "      <td>Coexistence of distinct mobility edges in a 1D...</td>\n",
       "      <td>We introduce a one-dimensional quasiperiodic m...</td>\n",
       "      <td>cond-mat.dis-nn</td>\n",
       "      <td>Xu Xia, Weihao Huang, Ke Huang, Xiaolong Deng,...</td>\n",
       "      <td>2025-03-06T15:37:14Z</td>\n",
       "      <td>2025-03-06T15:37:14Z</td>\n",
       "    </tr>\n",
       "    <tr>\n",
       "      <th>1</th>\n",
       "      <td>http://arxiv.org/abs/2503.04454v1</td>\n",
       "      <td>Beyond Disorder: Unveiling Cooperativeness in ...</td>\n",
       "      <td>By leveraging tools from the statistical mecha...</td>\n",
       "      <td>cond-mat.dis-nn</td>\n",
       "      <td>Andrea Alessandrelli, Adriano Barra, Andrea La...</td>\n",
       "      <td>2025-03-06T14:09:30Z</td>\n",
       "      <td>2025-03-06T14:09:30Z</td>\n",
       "    </tr>\n",
       "    <tr>\n",
       "      <th>2</th>\n",
       "      <td>http://arxiv.org/abs/2503.04443v1</td>\n",
       "      <td>On the nature of the glass transition in metal...</td>\n",
       "      <td>We performed parallel study of calorimetric an...</td>\n",
       "      <td>cond-mat.dis-nn</td>\n",
       "      <td>A. S. Makarov, G. V. Afonin, R. A. Konchakov, ...</td>\n",
       "      <td>2025-03-06T13:59:49Z</td>\n",
       "      <td>2025-03-06T13:59:49Z</td>\n",
       "    </tr>\n",
       "    <tr>\n",
       "      <th>3</th>\n",
       "      <td>http://arxiv.org/abs/2503.04436v1</td>\n",
       "      <td>Relationship between the shear moduli and defe...</td>\n",
       "      <td>We performed high-frequency shear modulus and ...</td>\n",
       "      <td>cond-mat.dis-nn</td>\n",
       "      <td>Andrey Makarov, Evgenia Gonchrova, Jichao Qiao...</td>\n",
       "      <td>2025-03-06T13:49:15Z</td>\n",
       "      <td>2025-03-06T13:49:15Z</td>\n",
       "    </tr>\n",
       "    <tr>\n",
       "      <th>4</th>\n",
       "      <td>http://arxiv.org/abs/2503.03955v1</td>\n",
       "      <td>Machine Learning Enhanced Calculation of Quant...</td>\n",
       "      <td>Binding free energies are a key element in und...</td>\n",
       "      <td>physics.chem-ph</td>\n",
       "      <td>Moritz Bensberg, Marco Eckhoff, F. Emil Thomas...</td>\n",
       "      <td>2025-03-05T23:01:35Z</td>\n",
       "      <td>2025-03-05T23:01:35Z</td>\n",
       "    </tr>\n",
       "  </tbody>\n",
       "</table>\n",
       "</div>"
      ],
      "text/plain": [
       "                                  id  \\\n",
       "0  http://arxiv.org/abs/2503.04552v1   \n",
       "1  http://arxiv.org/abs/2503.04454v1   \n",
       "2  http://arxiv.org/abs/2503.04443v1   \n",
       "3  http://arxiv.org/abs/2503.04436v1   \n",
       "4  http://arxiv.org/abs/2503.03955v1   \n",
       "\n",
       "                                               title  \\\n",
       "0  Coexistence of distinct mobility edges in a 1D...   \n",
       "1  Beyond Disorder: Unveiling Cooperativeness in ...   \n",
       "2  On the nature of the glass transition in metal...   \n",
       "3  Relationship between the shear moduli and defe...   \n",
       "4  Machine Learning Enhanced Calculation of Quant...   \n",
       "\n",
       "                                             summary         category  \\\n",
       "0  We introduce a one-dimensional quasiperiodic m...  cond-mat.dis-nn   \n",
       "1  By leveraging tools from the statistical mecha...  cond-mat.dis-nn   \n",
       "2  We performed parallel study of calorimetric an...  cond-mat.dis-nn   \n",
       "3  We performed high-frequency shear modulus and ...  cond-mat.dis-nn   \n",
       "4  Binding free energies are a key element in und...  physics.chem-ph   \n",
       "\n",
       "                                             authors             published  \\\n",
       "0  Xu Xia, Weihao Huang, Ke Huang, Xiaolong Deng,...  2025-03-06T15:37:14Z   \n",
       "1  Andrea Alessandrelli, Adriano Barra, Andrea La...  2025-03-06T14:09:30Z   \n",
       "2  A. S. Makarov, G. V. Afonin, R. A. Konchakov, ...  2025-03-06T13:59:49Z   \n",
       "3  Andrey Makarov, Evgenia Gonchrova, Jichao Qiao...  2025-03-06T13:49:15Z   \n",
       "4  Moritz Bensberg, Marco Eckhoff, F. Emil Thomas...  2025-03-05T23:01:35Z   \n",
       "\n",
       "                updated  \n",
       "0  2025-03-06T15:37:14Z  \n",
       "1  2025-03-06T14:09:30Z  \n",
       "2  2025-03-06T13:59:49Z  \n",
       "3  2025-03-06T13:49:15Z  \n",
       "4  2025-03-05T23:01:35Z  "
      ]
     },
     "execution_count": 4,
     "metadata": {},
     "output_type": "execute_result"
    }
   ],
   "source": [
    "df = pd.read_csv(\"../scraper/extractions/CSV/BySubCats/20250307_094141.csv\", engine=\"python\")\n",
    "df.head()"
   ]
  },
  {
   "cell_type": "code",
   "execution_count": 5,
   "metadata": {},
   "outputs": [
    {
     "data": {
      "text/plain": [
       "1757275"
      ]
     },
     "execution_count": 5,
     "metadata": {},
     "output_type": "execute_result"
    }
   ],
   "source": [
    "len(df)"
   ]
  },
  {
   "cell_type": "code",
   "execution_count": 6,
   "metadata": {},
   "outputs": [
    {
     "data": {
      "text/html": [
       "<div>\n",
       "<style scoped>\n",
       "    .dataframe tbody tr th:only-of-type {\n",
       "        vertical-align: middle;\n",
       "    }\n",
       "\n",
       "    .dataframe tbody tr th {\n",
       "        vertical-align: top;\n",
       "    }\n",
       "\n",
       "    .dataframe thead th {\n",
       "        text-align: right;\n",
       "    }\n",
       "</style>\n",
       "<table border=\"1\" class=\"dataframe\">\n",
       "  <thead>\n",
       "    <tr style=\"text-align: right;\">\n",
       "      <th></th>\n",
       "      <th>id</th>\n",
       "      <th>title</th>\n",
       "      <th>summary</th>\n",
       "      <th>category</th>\n",
       "      <th>authors</th>\n",
       "      <th>published</th>\n",
       "      <th>updated</th>\n",
       "    </tr>\n",
       "  </thead>\n",
       "  <tbody>\n",
       "    <tr>\n",
       "      <th>count</th>\n",
       "      <td>1757275</td>\n",
       "      <td>1757275</td>\n",
       "      <td>1757275</td>\n",
       "      <td>1757275</td>\n",
       "      <td>1757275</td>\n",
       "      <td>1757275</td>\n",
       "      <td>1757275</td>\n",
       "    </tr>\n",
       "    <tr>\n",
       "      <th>unique</th>\n",
       "      <td>1240392</td>\n",
       "      <td>1239612</td>\n",
       "      <td>1239914</td>\n",
       "      <td>172</td>\n",
       "      <td>980619</td>\n",
       "      <td>1228391</td>\n",
       "      <td>1233802</td>\n",
       "    </tr>\n",
       "    <tr>\n",
       "      <th>top</th>\n",
       "      <td>http://arxiv.org/abs/2402.14026v3</td>\n",
       "      <td>Discussion of: A statistical analysis of multi...</td>\n",
       "      <td>This paper has been withdrawn.</td>\n",
       "      <td>cs.LG</td>\n",
       "      <td>ALICE Collaboration</td>\n",
       "      <td>2024-12-11T19:00:00Z</td>\n",
       "      <td>2024-12-02T19:00:00Z</td>\n",
       "    </tr>\n",
       "    <tr>\n",
       "      <th>freq</th>\n",
       "      <td>8</td>\n",
       "      <td>14</td>\n",
       "      <td>29</td>\n",
       "      <td>55184</td>\n",
       "      <td>734</td>\n",
       "      <td>35</td>\n",
       "      <td>26</td>\n",
       "    </tr>\n",
       "  </tbody>\n",
       "</table>\n",
       "</div>"
      ],
      "text/plain": [
       "                                       id  \\\n",
       "count                             1757275   \n",
       "unique                            1240392   \n",
       "top     http://arxiv.org/abs/2402.14026v3   \n",
       "freq                                    8   \n",
       "\n",
       "                                                    title  \\\n",
       "count                                             1757275   \n",
       "unique                                            1239612   \n",
       "top     Discussion of: A statistical analysis of multi...   \n",
       "freq                                                   14   \n",
       "\n",
       "                               summary category              authors  \\\n",
       "count                          1757275  1757275              1757275   \n",
       "unique                         1239914      172               980619   \n",
       "top     This paper has been withdrawn.    cs.LG  ALICE Collaboration   \n",
       "freq                                29    55184                  734   \n",
       "\n",
       "                   published               updated  \n",
       "count                1757275               1757275  \n",
       "unique               1228391               1233802  \n",
       "top     2024-12-11T19:00:00Z  2024-12-02T19:00:00Z  \n",
       "freq                      35                    26  "
      ]
     },
     "execution_count": 6,
     "metadata": {},
     "output_type": "execute_result"
    }
   ],
   "source": [
    "df.describe()"
   ]
  },
  {
   "cell_type": "code",
   "execution_count": 7,
   "metadata": {},
   "outputs": [
    {
     "data": {
      "text/html": [
       "<div>\n",
       "<style scoped>\n",
       "    .dataframe tbody tr th:only-of-type {\n",
       "        vertical-align: middle;\n",
       "    }\n",
       "\n",
       "    .dataframe tbody tr th {\n",
       "        vertical-align: top;\n",
       "    }\n",
       "\n",
       "    .dataframe thead th {\n",
       "        text-align: right;\n",
       "    }\n",
       "</style>\n",
       "<table border=\"1\" class=\"dataframe\">\n",
       "  <thead>\n",
       "    <tr style=\"text-align: right;\">\n",
       "      <th></th>\n",
       "      <th>id</th>\n",
       "      <th>title</th>\n",
       "      <th>summary</th>\n",
       "      <th>category</th>\n",
       "      <th>authors</th>\n",
       "      <th>published</th>\n",
       "      <th>updated</th>\n",
       "    </tr>\n",
       "  </thead>\n",
       "  <tbody>\n",
       "    <tr>\n",
       "      <th>count</th>\n",
       "      <td>1239612</td>\n",
       "      <td>1239612</td>\n",
       "      <td>1239612</td>\n",
       "      <td>1239612</td>\n",
       "      <td>1239612</td>\n",
       "      <td>1239612</td>\n",
       "      <td>1239612</td>\n",
       "    </tr>\n",
       "    <tr>\n",
       "      <th>unique</th>\n",
       "      <td>1239612</td>\n",
       "      <td>1239612</td>\n",
       "      <td>1239251</td>\n",
       "      <td>172</td>\n",
       "      <td>980283</td>\n",
       "      <td>1227619</td>\n",
       "      <td>1233026</td>\n",
       "    </tr>\n",
       "    <tr>\n",
       "      <th>top</th>\n",
       "      <td>http://arxiv.org/abs/2206.07332v3</td>\n",
       "      <td>Modelling of AC/DC Interactions of Converter-I...</td>\n",
       "      <td>This paper has been withdrawn.</td>\n",
       "      <td>cs.LG</td>\n",
       "      <td>CMS Collaboration</td>\n",
       "      <td>2024-12-11T19:00:00Z</td>\n",
       "      <td>2012-06-27T19:59:59Z</td>\n",
       "    </tr>\n",
       "    <tr>\n",
       "      <th>freq</th>\n",
       "      <td>1</td>\n",
       "      <td>1</td>\n",
       "      <td>24</td>\n",
       "      <td>39965</td>\n",
       "      <td>497</td>\n",
       "      <td>18</td>\n",
       "      <td>15</td>\n",
       "    </tr>\n",
       "  </tbody>\n",
       "</table>\n",
       "</div>"
      ],
      "text/plain": [
       "                                       id  \\\n",
       "count                             1239612   \n",
       "unique                            1239612   \n",
       "top     http://arxiv.org/abs/2206.07332v3   \n",
       "freq                                    1   \n",
       "\n",
       "                                                    title  \\\n",
       "count                                             1239612   \n",
       "unique                                            1239612   \n",
       "top     Modelling of AC/DC Interactions of Converter-I...   \n",
       "freq                                                    1   \n",
       "\n",
       "                               summary category            authors  \\\n",
       "count                          1239612  1239612            1239612   \n",
       "unique                         1239251      172             980283   \n",
       "top     This paper has been withdrawn.    cs.LG  CMS Collaboration   \n",
       "freq                                24    39965                497   \n",
       "\n",
       "                   published               updated  \n",
       "count                1239612               1239612  \n",
       "unique               1227619               1233026  \n",
       "top     2024-12-11T19:00:00Z  2012-06-27T19:59:59Z  \n",
       "freq                      18                    15  "
      ]
     },
     "execution_count": 7,
     "metadata": {},
     "output_type": "execute_result"
    }
   ],
   "source": [
    "df = df.drop_duplicates(subset=\"title\")\n",
    "df.describe()\n"
   ]
  },
  {
   "cell_type": "code",
   "execution_count": 8,
   "metadata": {},
   "outputs": [
    {
     "data": {
      "text/html": [
       "<div>\n",
       "<style scoped>\n",
       "    .dataframe tbody tr th:only-of-type {\n",
       "        vertical-align: middle;\n",
       "    }\n",
       "\n",
       "    .dataframe tbody tr th {\n",
       "        vertical-align: top;\n",
       "    }\n",
       "\n",
       "    .dataframe thead th {\n",
       "        text-align: right;\n",
       "    }\n",
       "</style>\n",
       "<table border=\"1\" class=\"dataframe\">\n",
       "  <thead>\n",
       "    <tr style=\"text-align: right;\">\n",
       "      <th></th>\n",
       "      <th>id</th>\n",
       "      <th>title</th>\n",
       "      <th>summary</th>\n",
       "      <th>category</th>\n",
       "      <th>authors</th>\n",
       "      <th>published</th>\n",
       "      <th>updated</th>\n",
       "    </tr>\n",
       "  </thead>\n",
       "  <tbody>\n",
       "    <tr>\n",
       "      <th>count</th>\n",
       "      <td>1239251</td>\n",
       "      <td>1239251</td>\n",
       "      <td>1239251</td>\n",
       "      <td>1239251</td>\n",
       "      <td>1239251</td>\n",
       "      <td>1239251</td>\n",
       "      <td>1239251</td>\n",
       "    </tr>\n",
       "    <tr>\n",
       "      <th>unique</th>\n",
       "      <td>1239251</td>\n",
       "      <td>1239251</td>\n",
       "      <td>1239251</td>\n",
       "      <td>172</td>\n",
       "      <td>980160</td>\n",
       "      <td>1227259</td>\n",
       "      <td>1232666</td>\n",
       "    </tr>\n",
       "    <tr>\n",
       "      <th>top</th>\n",
       "      <td>http://arxiv.org/abs/2206.07332v3</td>\n",
       "      <td>Modelling of AC/DC Interactions of Converter-I...</td>\n",
       "      <td>Power distribution systems experience a large-...</td>\n",
       "      <td>cs.LG</td>\n",
       "      <td>CMS Collaboration</td>\n",
       "      <td>2024-12-11T19:00:00Z</td>\n",
       "      <td>2012-06-27T19:59:59Z</td>\n",
       "    </tr>\n",
       "    <tr>\n",
       "      <th>freq</th>\n",
       "      <td>1</td>\n",
       "      <td>1</td>\n",
       "      <td>1</td>\n",
       "      <td>39961</td>\n",
       "      <td>497</td>\n",
       "      <td>18</td>\n",
       "      <td>15</td>\n",
       "    </tr>\n",
       "  </tbody>\n",
       "</table>\n",
       "</div>"
      ],
      "text/plain": [
       "                                       id  \\\n",
       "count                             1239251   \n",
       "unique                            1239251   \n",
       "top     http://arxiv.org/abs/2206.07332v3   \n",
       "freq                                    1   \n",
       "\n",
       "                                                    title  \\\n",
       "count                                             1239251   \n",
       "unique                                            1239251   \n",
       "top     Modelling of AC/DC Interactions of Converter-I...   \n",
       "freq                                                    1   \n",
       "\n",
       "                                                  summary category  \\\n",
       "count                                             1239251  1239251   \n",
       "unique                                            1239251      172   \n",
       "top     Power distribution systems experience a large-...    cs.LG   \n",
       "freq                                                    1    39961   \n",
       "\n",
       "                  authors             published               updated  \n",
       "count             1239251               1239251               1239251  \n",
       "unique             980160               1227259               1232666  \n",
       "top     CMS Collaboration  2024-12-11T19:00:00Z  2012-06-27T19:59:59Z  \n",
       "freq                  497                    18                    15  "
      ]
     },
     "execution_count": 8,
     "metadata": {},
     "output_type": "execute_result"
    }
   ],
   "source": [
    "df = df.drop_duplicates(subset=\"summary\")\n",
    "df.describe()\n"
   ]
  },
  {
   "cell_type": "code",
   "execution_count": 9,
   "metadata": {},
   "outputs": [
    {
     "data": {
      "image/png": "[encoded data removed]",
      "text/plain": [
       "<Figure size 1500x800 with 1 Axes>"
      ]
     },
     "metadata": {},
     "output_type": "display_data"
    }
   ],
   "source": [
    "category_counts = df.category.value_counts()\n",
    "# Create a bar plot\n",
    "plt.figure(figsize=(15, 8))\n",
    "plt.bar(category_counts.index, category_counts.values)\n",
    "plt.xticks(rotation=90)\n",
    "plt.xlabel('Categories')\n",
    "plt.ylabel('Number of Articles')\n",
    "plt.title('Distribution of Articles by Category')\n",
    "\n",
    "# Add some spacing at the bottom for category labels\n",
    "plt.tight_layout()\n",
    "\n",
    "# Display the plot\n",
    "plt.show()"
   ]
  },
  {
   "cell_type": "code",
   "execution_count": 10,
   "metadata": {},
   "outputs": [
    {
     "data": {
      "text/plain": [
       "(array(['cond-mat.dis-nn', 'physics.chem-ph', 'cond-mat.stat-mech',\n",
       "        'cond-mat.soft', 'q-bio.PE', 'quant-ph', 'cs.LG', 'stat.ML',\n",
       "        'cond-mat.mes-hall', 'q-bio.NC', 'cond-mat.str-el', 'hep-th',\n",
       "        'physics.data-an', 'math.PR', 'physics.optics',\n",
       "        'cond-mat.mtrl-sci', 'q-bio.MN', 'cond-mat.supr-con',\n",
       "        'physics.app-ph', 'math.ST', 'cond-mat.quant-gas',\n",
       "        'physics.soc-ph', 'q-fin.RM', 'hep-lat', 'cs.IT', 'cs.AI',\n",
       "        'nlin.CD', 'cs.CL', 'eess.SY', 'nlin.PS', 'math.AP',\n",
       "        'physics.hist-ph', 'cs.GT', 'gr-qc', 'nlin.AO', 'cs.ET',\n",
       "        'physics.comp-ph', 'q-bio.BM', 'math-ph', 'cs.SD', 'astro-ph.IM',\n",
       "        'physics.flu-dyn', 'q-fin.PM', 'math.NA', 'nucl-th', 'cs.CV',\n",
       "        'physics.bio-ph', 'stat.ME', 'cs.NE', 'physics.geo-ph', 'q-fin.GN',\n",
       "        'cs.AR', 'physics.atom-ph', 'eess.IV', 'physics.class-ph', 'cs.SI',\n",
       "        'math.OC', 'physics.med-ph', 'astro-ph.EP', 'math.DS',\n",
       "        'physics.plasm-ph', 'cond-mat.other', 'astro-ph.CO', 'eess.SP',\n",
       "        'math.CO', 'q-bio.QM', 'stat.CO', 'hep-ph', 'math.NT', 'cs.RO',\n",
       "        'cs.DC', 'physics.ed-ph', 'physics.ao-ph', 'eess.AS', 'nlin.CG',\n",
       "        'q-fin.ST', 'cs.CY', 'math.AT', 'q-bio.CB', 'physics.atm-clus',\n",
       "        'astro-ph.GA', 'physics.pop-ph', 'cs.DM', 'physics.ins-det',\n",
       "        'cs.DS', 'cs.NI', 'physics.gen-ph', 'stat.AP', 'q-fin.EC',\n",
       "        'q-bio.OT', 'math.OA', 'cs.OH', 'math.SP', 'cs.CC', 'q-bio.GN',\n",
       "        'math.CT', 'q-fin.CP', 'cs.CR', 'nlin.SI', 'physics.acc-ph',\n",
       "        'cs.NA', 'q-bio.SC', 'cs.CE', 'cs.IR', 'q-fin.TR', 'astro-ph',\n",
       "        'q-bio.TO', 'math.QA', 'math.FA', 'physics.space-ph', 'cs.GR',\n",
       "        'math.KT', 'cs.CG', 'cs.DL', 'math.GM', 'hep-ex', 'cs.HC',\n",
       "        'nucl-ex', 'cs.MA', 'astro-ph.HE', 'astro-ph.SR', 'math.GT',\n",
       "        'math.MG', 'math.DG', 'stat.OT', 'q-fin.PR', 'cs.PF', 'cond-mat',\n",
       "        'chao-dyn', 'math.AG', 'math.HO', 'math.CA', 'cs.MS', 'math.SG',\n",
       "        'cs.SY', 'econ.TH', 'econ.GN', 'cs.MM', 'math.CV', 'math.RT',\n",
       "        'math.AC', 'cs.LO', 'cs.PL', 'cs.DB', 'cs.SE', 'cs.SC', 'q-fin.MF',\n",
       "        'math.RA', 'cs.FL', 'math.LO', 'econ.EM', 'cs.GL', 'math.GN',\n",
       "        'math.GR', 'adap-org', 'solv-int', 'patt-sol', 'comp-gas',\n",
       "        'cmp-lg', 'plasm-ph', 'chem-ph', 'supr-con', 'funct-an', 'dg-ga',\n",
       "        'q-alg', 'alg-geom', 'acc-phys', 'ao-sci', 'bayes-an', 'category',\n",
       "        'atom-ph', 'cs.OS'], dtype=object),\n",
       " 172)"
      ]
     },
     "execution_count": 10,
     "metadata": {},
     "output_type": "execute_result"
    }
   ],
   "source": [
    "categories = df.category.unique()\n",
    "categories, len(categories)"
   ]
  },
  {
   "cell_type": "code",
   "execution_count": 12,
   "metadata": {},
   "outputs": [
    {
     "name": "stdout",
     "output_type": "stream",
     "text": [
      "162966\n"
     ]
    }
   ],
   "source": [
    "import re\n",
    "from collections import Counter\n",
    "\n",
    "titles = df[\"title\"]\n",
    "vocab = Counter()\n",
    "for title in titles:\n",
    "    # Extraction des mots en minuscules (seulement les caractères alphabétiques)\n",
    "    words = re.findall(r'[a-z]+', title.lower())\n",
    "    vocab.update(words)\n",
    "vocab = dict(vocab)\n",
    "print(len(vocab))\n",
    " "
   ]
  },
  {
   "cell_type": "code",
   "execution_count": 13,
   "metadata": {},
   "outputs": [
    {
     "name": "stdout",
     "output_type": "stream",
     "text": [
      "134262\n",
      "28704\n"
     ]
    }
   ],
   "source": [
    "rare_words = [word for word, count in vocab.items() if count < 10]\n",
    "print(len(rare_words))\n",
    "for w in rare_words:\n",
    "    vocab.pop(w, None)\n",
    "print(len(vocab))"
   ]
  },
  {
   "cell_type": "code",
   "execution_count": 14,
   "metadata": {},
   "outputs": [
    {
     "name": "stdout",
     "output_type": "stream",
     "text": [
      "['coexistence', 'of', 'distinct', 'mobility', 'edges', 'in', 'a', 'd', 'quasiperiodic', 'mosaic', 'model', 'beyond', 'disorder', 'unveiling', 'associative', 'memories', 'on', 'the', 'nature', 'glass', 'transition', 'metallic', 'glasses', 'after', 'deep', 'relaxation', 'relationship', 'between', 'shear', 'moduli', 'and', 'defect', 'induced', 'structural', 'entropy', 'machine', 'learning', 'enhanced', 'calculation', 'quantum', 'classical', 'binding', 'free', 'energies', 'hierarchical', 'embedding', 'by', 'for', 'large', 'molecular']\n"
     ]
    }
   ],
   "source": [
    "list_of_words = list(vocab.keys())\n",
    "print(list_of_words[:50])"
   ]
  },
  {
   "cell_type": "code",
   "execution_count": 15,
   "metadata": {},
   "outputs": [],
   "source": [
    "categories = df.category.unique()\n",
    "\n",
    "wtoi = {t:i for i,t in enumerate(vocab)} # word to integer \n",
    "itow = {i:t for i,t in enumerate(vocab)} # integer to word\n",
    "\n",
    "ttoi = {t:i for i,t in enumerate(titles)} # title to integer \n",
    "itot = {i:t for i,t in enumerate(titles)} # integer to title\n",
    "\n",
    "ctoi = {c:i for i,c in enumerate(categories)} # category to integer\n",
    "itoc = {i:c for i,c in enumerate(categories)} # integer to category"
   ]
  },
  {
   "cell_type": "code",
   "execution_count": 17,
   "metadata": {},
   "outputs": [
    {
     "name": "stdout",
     "output_type": "stream",
     "text": [
      "tensor([[-0.3936,  0.3164,  0.2020, -0.0380,  0.3611, -0.0912, -0.2491, -0.2949,\n",
      "          0.1531,  0.4761],\n",
      "        [-0.2956,  0.8560,  0.1637,  0.2213,  0.0740,  0.2049, -1.0772, -0.4520,\n",
      "         -0.3780,  0.5663],\n",
      "        [-0.3003,  0.0622,  0.3319, -0.0132, -0.0723, -0.1803,  0.0244, -0.2158,\n",
      "          0.0231,  0.4030],\n",
      "        [ 0.1759, -0.3605,  0.2405,  0.3070, -0.3121, -0.6946,  0.3291, -0.2831,\n",
      "          0.4170, -0.0390],\n",
      "        [ 0.3289, -0.4707,  0.5244, -0.1239,  0.6308, -1.0116,  0.0210, -0.2464,\n",
      "          0.3904, -0.4925]])\n",
      "['Coexistence of distinct mobility edges in a 1D quasiperiodic mosaic\\n  model', 'Beyond Disorder: Unveiling Cooperativeness in Multidirectional\\n  Associative Memories', 'On the nature of the glass transition in metallic glasses after deep\\n  relaxation', 'Relationship between the shear moduli and defect-induced structural\\n  relaxation ofhigh-entropy metallic glasses', 'Machine Learning Enhanced Calculation of Quantum-Classical Binding Free\\n  Energies']\n"
     ]
    }
   ],
   "source": [
    "def titles_embbeding(titles, C, poolingtype=\"avg\"): \n",
    "    titles_emb = []\n",
    "    for t in titles:\n",
    "        words = re.findall(r'[a-z]+', t.lower())\n",
    "        words = [w for w in words if w in wtoi] # make sure the words are in the vocab \n",
    "\n",
    "        indices = [wtoi[w] for w in words if w in wtoi]\n",
    "        word_embeddings = C[indices] # (nbr_words_in_title, emb_dim)\n",
    "        if poolingtype == \"avg\":\n",
    "            emb = word_embeddings.mean(dim=0) # mean \n",
    "        elif poolingtype == \"max\":\n",
    "            emb = word_embeddings.max(dim=0)[0] # max values without the indices\n",
    "        else:\n",
    "            print(\"Choose between 'avg' and 'max'\")\n",
    "        titles_emb.append(emb)\n",
    "\n",
    "    titles_emb = torch.stack(titles_emb)\n",
    "    return titles_emb\n",
    "\n",
    "# Ex\n",
    "emb_dim = 10\n",
    "C = torch.randn((len(vocab), emb_dim))\n",
    "batch_titles = [itot[i] for i in range(0,5)]\n",
    "print(titles_embbeding(batch_titles, C, 'avg'))\n",
    "print(batch_titles)"
   ]
  },
  {
   "cell_type": "code",
   "execution_count": 18,
   "metadata": {},
   "outputs": [],
   "source": [
    "def build_dataset(papers, n1, n2):\n",
    "    X = [papers.iloc[i][\"title\"] for i in range(n1, n2)]\n",
    "    Y = [ctoi[papers.iloc[i][\"category\"]] for i in range(n1, n2)]\n",
    "    return X, Y"
   ]
  },
  {
   "cell_type": "code",
   "execution_count": 19,
   "metadata": {},
   "outputs": [],
   "source": [
    "import random\n",
    "random.seed(42)\n",
    "indices = list(range(len(df)))\n",
    "random.shuffle(indices)\n",
    "papers_shuffled = df.iloc[indices].reset_index(drop=True) # shuffled dataset \n",
    "n1 = int(0.8*len(papers_shuffled))\n",
    "Xtr, Ytr = build_dataset(papers_shuffled, 0, n1)\n",
    "Xte, Yte = build_dataset(papers_shuffled, n1, len(papers_shuffled))"
   ]
  },
  {
   "cell_type": "code",
   "execution_count": 20,
   "metadata": {},
   "outputs": [
    {
     "name": "stdout",
     "output_type": "stream",
     "text": [
      "['From $Γ$-spaces to algebraic theories', 'Remarks on the intersection of filters', 'An estimate on the nodal set of eigenspinors on closed surfaces', 'A Coin Has Two Sides: A Novel Detector-Corrector Framework for Chinese\\n  Spelling Correction', 'Coulomb corrections to two-particle interaction in artificial traps']\n",
      "[77, 149, 123, 27, 44]\n"
     ]
    }
   ],
   "source": [
    "print(Xtr[:5])\n",
    "print(Ytr[:5])"
   ]
  },
  {
   "cell_type": "code",
   "execution_count": 23,
   "metadata": {},
   "outputs": [
    {
     "name": "stdout",
     "output_type": "stream",
     "text": [
      "['math.AT', 'math.LO', 'math.DG', 'cs.CL', 'nucl-th']\n"
     ]
    }
   ],
   "source": [
    "print([itoc[i] for i in Ytr[:5]])"
   ]
  },
  {
   "cell_type": "code",
   "execution_count": 24,
   "metadata": {},
   "outputs": [
    {
     "name": "stdout",
     "output_type": "stream",
     "text": [
      "torch.Size([28704, 10])\n",
      "torch.Size([10, 256])\n",
      "torch.Size([256])\n",
      "torch.Size([256, 256])\n",
      "torch.Size([256])\n",
      "torch.Size([256, 172])\n",
      "torch.Size([172])\n",
      "399852\n"
     ]
    }
   ],
   "source": [
    "nbr_added_layers = 1\n",
    "nbr_neurons_hidden = [256 for _ in range(nbr_added_layers)]\n",
    "nbr_neurons_first = 256\n",
    "nbr_categories = len(categories)\n",
    "nbr_titles = len(titles)\n",
    "vocab_size = len(vocab)\n",
    "emb_dim = 10\n",
    "\n",
    "g = torch.Generator().manual_seed(2147483647) \n",
    "C = torch.randn((vocab_size, emb_dim), generator=g)\n",
    "W1 = torch.randn((emb_dim, nbr_neurons_first), generator=g) / nbr_neurons_first**0.5 # kaiming init\n",
    "b1 = torch.randn(nbr_neurons_first, generator=g) * 0.1\n",
    "\n",
    "Ws = []\n",
    "bs = []\n",
    "parameters = [C, W1, b1]\n",
    "for i in range(0, nbr_added_layers):\n",
    "    if i == 0:\n",
    "        W = torch.randn((nbr_neurons_first, nbr_neurons_hidden[i]), generator=g) / nbr_neurons_hidden[i]**0.5\n",
    "    else : \n",
    "        W = torch.randn((nbr_neurons_hidden[i], nbr_neurons_hidden[i]), generator=g) / nbr_neurons_hidden[i]**0.5\n",
    "    \n",
    "    b = torch.randn(nbr_neurons_hidden[i], generator=g) * 0.1\n",
    "    parameters.append(W)\n",
    "    parameters.append(b)\n",
    "    Ws.append(W)\n",
    "    bs.append(b)\n",
    "\n",
    "Wlast = torch.randn((nbr_neurons_hidden[-1], nbr_categories), generator=g) / nbr_neurons_hidden[-1]**0.5\n",
    "blast = torch.randn((nbr_categories), generator=g) * 0.1\n",
    "\n",
    "parameters.append(Wlast)\n",
    "parameters.append(blast)\n",
    "\n",
    "for p in parameters:\n",
    "    print(p.shape)\n",
    "\n",
    "print(sum(p.nelement() for p in parameters))"
   ]
  },
  {
   "cell_type": "code",
   "execution_count": 25,
   "metadata": {},
   "outputs": [],
   "source": [
    "for p in parameters:\n",
    "        p.requires_grad = True \n",
    "stepi, lossi, lri = [], [], []"
   ]
  },
  {
   "cell_type": "code",
   "execution_count": 26,
   "metadata": {},
   "outputs": [
    {
     "name": "stdout",
     "output_type": "stream",
     "text": [
      "Epoch [1/3], Loss: nan, Iterations: 30981\n",
      "Epoch [2/3], Loss: nan, Iterations: 61962\n",
      "Epoch [3/3], Loss: nan, Iterations: 92943\n"
     ]
    }
   ],
   "source": [
    "epochs = 3\n",
    "batch_size = 32\n",
    "pooling_type = \"avg\"\n",
    "lr = 0.1\n",
    "max_it = 5000000\n",
    "\n",
    "# Calculate number of batches per epoch\n",
    "n_samples = len(Xtr)\n",
    "n_batches = n_samples // batch_size\n",
    "\n",
    "it_count = 0\n",
    "for epoch in range(epochs):\n",
    "    if it_count >= max_it:\n",
    "        print(f'Max iterations reached: {max_it}')\n",
    "        break\n",
    "        \n",
    "    # Shuffle training data at the beginning of each epoch\n",
    "    indices = torch.randperm(n_samples)\n",
    "    \n",
    "    # Loop over batches\n",
    "    for batch_idx in range(n_batches):\n",
    "        # Get batch indices\n",
    "        start_idx = batch_idx * batch_size\n",
    "        end_idx = start_idx + batch_size\n",
    "        batch_indices = indices[start_idx:end_idx]\n",
    "        \n",
    "        # Get the titles for these indices\n",
    "        batch_titles = [Xtr[idx] for idx in batch_indices]\n",
    "        batch_labels = torch.tensor([Ytr[idx] for idx in batch_indices])\n",
    "        \n",
    "        # Calculate embeddings for these titles using average pooling\n",
    "        emb = titles_embbeding(batch_titles, C, pooling_type)\n",
    "        \n",
    "        # Forward pass through the network\n",
    "        x = torch.tanh(emb @ W1 + b1)  \n",
    "        for W, b in zip(Ws, bs): \n",
    "            x = torch.tanh(x @ W + b)\n",
    "        logits = x @ Wlast + blast\n",
    "        loss = F.cross_entropy(logits, batch_labels) \n",
    "\n",
    "        # Backward pass\n",
    "        for p in parameters:\n",
    "            p.grad = None\n",
    "        loss.backward()\n",
    "\n",
    "        # Update parameters\n",
    "        for p in parameters:\n",
    "            p.data += -0.1 * p.grad \n",
    "\n",
    "        # Store metrics\n",
    "        stepi.append(it_count)\n",
    "        lossi.append(loss.item())\n",
    "        \n",
    "        it_count += 1\n",
    "        if it_count >= max_it:\n",
    "            break\n",
    "    \n",
    "    print(f'Epoch [{epoch+1}/{epochs}], Loss: {loss.item():.4f}, Iterations: {it_count}')\n",
    "\n",
    "    # Print progress every 10 epochs\n",
    "    if (epoch + 1) % 10 == 0:\n",
    "        print(f'Epoch [{epoch+1}/{epochs}], Loss: {loss.item():.4f}, Iterations: {it_count}')\n"
   ]
  },
  {
   "cell_type": "code",
   "execution_count": 28,
   "metadata": {},
   "outputs": [
    {
     "name": "stdout",
     "output_type": "stream",
     "text": [
      "test :  nan\n"
     ]
    }
   ],
   "source": [
    "def deep_model_test(X,Y):\n",
    "    # Stack all embeddings into a single tensor\n",
    "    emb = titles_embbeding(X, C, pooling_type)\n",
    "    batch_labels = torch.tensor(Y)\n",
    "    \n",
    "    # Forward pass through the network\n",
    "    x = torch.tanh(emb @ W1 + b1)  \n",
    "    for W, b in zip(Ws, bs): \n",
    "        x = torch.tanh(x @ W + b)\n",
    "    logits = x @ Wlast + blast\n",
    "    loss = F.cross_entropy(logits,torch.tensor(Y)) \n",
    "\n",
    "\n",
    "    return loss\n",
    "\n",
    "ltest = deep_model_test(Xte, Yte)\n",
    "#ltrain = deep_model_test(Xtr, Ytr)\n",
    "#print(\"ltrain : \", ltrain.item())\n",
    "print(\"test : \", ltest.item())"
   ]
  },
  {
   "cell_type": "code",
   "execution_count": 27,
   "metadata": {},
   "outputs": [
    {
     "data": {
      "image/png": "[encoded data removed]",
      "text/plain": [
       "<Figure size 1000x600 with 1 Axes>"
      ]
     },
     "metadata": {},
     "output_type": "display_data"
    }
   ],
   "source": [
    "window_size = 1000  # adjust this value to get smoother/rougher plot\n",
    "plt.figure(figsize=(10, 6))\n",
    "losses = torch.tensor(lossi)\n",
    "n = len(losses)\n",
    "n_windows = n // window_size\n",
    "averaged_losses = losses[:n_windows * window_size].view(-1, window_size).mean(1)\n",
    "\n",
    "\n",
    "plt.plot(averaged_losses)\n",
    "plt.xlabel(f'Training Steps (x{window_size})')\n",
    "plt.ylabel('Average Loss')\n",
    "plt.title('Training Loss Over Time')\n",
    "plt.grid(True)\n",
    "plt.show()\n"
   ]
  }
 ],
 "metadata": {
  "kernelspec": {
   "display_name": "env",
   "language": "python",
   "name": "python3"
  },
  "language_info": {
   "codemirror_mode": {
    "name": "ipython",
    "version": 3
   },
   "file_extension": ".py",
   "mimetype": "text/x-python",
   "name": "python",
   "nbconvert_exporter": "python",
   "pygments_lexer": "ipython3",
   "version": "3.12.0"
  }
 },
 "nbformat": 4,
 "nbformat_minor": 2
}
